{
 "cells": [
  {
   "cell_type": "code",
   "execution_count": null,
   "metadata": {},
   "outputs": [],
   "source": []
  },
  {
   "cell_type": "code",
   "execution_count": null,
   "metadata": {},
   "outputs": [],
   "source": []
  },
  {
   "cell_type": "code",
   "execution_count": null,
   "metadata": {},
   "outputs": [],
   "source": [
    "   #read post and muncipalities\n",
    "    filename_stat = 'stats_all.csv'\n",
    "    filename_stat = os.path.join(path, filename_stat )\n",
    "\n",
    "    filename_kunta_stat =  'kunta_stat.csv'\n",
    "    filename_kunta_stat = os.path.join(path, filename_kunta_stat )\n",
    " \n",
    "    if (os.access(filename_stat, os.R_OK)) & (os.access(filename_kunta_stat, os.R_OK)):\n",
    "        #try to read data from files\n",
    "        print(inspect.stack()[0][3],' read from file')\n",
    "        stat = pd.read_csv(filename_stat, encoding=\"ISO-8859-1\")\n",
    "        stat.loc[:,'Postinumero'] = stat['Postinumero'].apply(add_zeros)\n",
    "        kunta_stat = pd.read_csv(filename_kunta_stat, encoding=\"ISO-8859-1\")\n",
    "    else:\n"
   ]
  }
 ],
 "metadata": {
  "kernelspec": {
   "display_name": "Python 3",
   "language": "python",
   "name": "python3"
  },
  "language_info": {
   "codemirror_mode": {
    "name": "ipython",
    "version": 3
   },
   "file_extension": ".py",
   "mimetype": "text/x-python",
   "name": "python",
   "nbconvert_exporter": "python",
   "pygments_lexer": "ipython3",
   "version": "3.6.8"
  }
 },
 "nbformat": 4,
 "nbformat_minor": 4
}
