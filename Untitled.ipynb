{
 "cells": [
  {
   "cell_type": "code",
   "execution_count": 1,
   "metadata": {},
   "outputs": [],
   "source": [
    "import os\n",
    "apppath = 'areadata'\n",
    "\n",
    "if os.path.exists(apppath):\n",
    "    if os.getcwd() != apppath:\n",
    "        os.chdir(apppath)\n",
    "path = os.getcwd()\n",
    "path = os.path.join(path, \"data\")\n",
    "\n",
    "if not os.path.exists(path):\n",
    "    os.mkdir(path)\n"
   ]
  },
  {
   "cell_type": "code",
   "execution_count": 2,
   "metadata": {},
   "outputs": [
    {
     "name": "stdout",
     "output_type": "stream",
     "text": [
      "read_post_muncipalities  read from file\n",
      "read_stats_postcode  read from file\n",
      "read_ravintolat_ja_kaupat  read from file\n",
      "read_kiinteisto  read from file\n",
      "read_vaalit  read from file\n"
     ]
    }
   ],
   "source": [
    "from inpute_null import inpute_null\n",
    "from read_and_merge_all import read_and_merge_all \n",
    "from create_new_values import create_new_values\n",
    "from create_share_of_values import create_share_of_values\n",
    "from OrderedSet import OrderedSet\n",
    "import numpy as np\n",
    "\n",
    "stat, post, kunta_stat, vaalidata = read_and_merge_all(path)\n",
    "stat=stat[stat['Asukkaat yhteensä, 2018 (HE)']!=0].copy()\n",
    "col_list_sama_arvo  = ['Talotyypit yhteensä 2019 Neliöhinta (EUR/m2)', 'Asumisväljyys, 2018 (TE)', 'Asuntojen keskipinta-ala, 2018 (RA)']\n",
    "col_list_osuuus  = ['Miehet, 2018 (HE)', 'Naiset, 2018 (HE)', 'Taloudet yhteensä, 2018 (TE)']\n",
    "stat=inpute_null(stat, kunta_stat, col_list_sama_arvo, col_list_osuuus)\n",
    "\n"
   ]
  },
  {
   "cell_type": "code",
   "execution_count": 151,
   "metadata": {},
   "outputs": [
    {
     "name": "stdout",
     "output_type": "stream",
     "text": [
      "1. Verotuspäätöksen saajien lukumäärä Yhteensä Saajien lukumäärä osuudesta verotetut osuus total\n"
     ]
    }
   ],
   "source": [
    "middle_column2=middle_column + \" osuus \" + group_column\n",
    "print(middle_column2)"
   ]
  },
  {
   "cell_type": "code",
   "execution_count": 141,
   "metadata": {},
   "outputs": [],
   "source": [
    "start = stat.columns.get_loc(stat.columns[1])          \n",
    "end = stat.columns.get_loc('1. Verotuspäätöksen saajien lukumäärä Yhteensä Saajien lukumäärä')\n",
    "col_list_stat = stat.iloc[:,start:end].columns.to_list()\n",
    "\n",
    "col_list_rav = ['Ravintolat','Myymälät']\n",
    "col_list_stat = col_list_stat + col_list_rav\n",
    "\n",
    "matchers = ['taloudet', 'pinta-ala', 'koordinaatti', 'Asukkaat yhteensä', 'Taloudet yhteensä', 'Talouksien keskikoko']\n",
    "not_matching = [s for s in col_list_stat if any(xs in s for xs in matchers)]\n",
    "col_list_stat_asukkaat = list(OrderedSet(col_list_stat) - OrderedSet(not_matching))\n",
    "\n",
    "matchers = ['taloudet']\n",
    "col_list_stat_talous = [s for s in col_list_stat if any(xs in s for xs in matchers)]\n",
    "\n",
    "start = stat.columns.get_loc('1. Verotuspäätöksen saajien lukumäärä Yhteensä Saajien lukumäärä')\n",
    "end = stat.columns.get_loc('Talotyypit yhteensä 2019 Neliöhinta (EUR/m2)')\n",
    "col_list_tax = stat.iloc[:,start:end].columns.to_list()\n",
    "matchers = ['Saajien lukumäärä']\n",
    "col_list_tax_persons = [s for s in col_list_tax if any(xs in s for xs in matchers)]\n",
    "\n",
    "matchers = ['Summa, euroa']\n",
    "col_list_tax_euros = [s for s in col_list_tax if any(xs in s for xs in matchers)]"
   ]
  },
  {
   "cell_type": "code",
   "execution_count": null,
   "metadata": {},
   "outputs": [],
   "source": []
  },
  {
   "cell_type": "code",
   "execution_count": 143,
   "metadata": {},
   "outputs": [],
   "source": [
    "share_word = \" osuudesta \"\n",
    "\n",
    "sum_column = 'Asukkaat yhteensä, 2018 (HE)'\n",
    "for col in stat[col_list_stat_asukkaat]:\n",
    "    target_col = col + share_word + 'asukkaat'\n",
    "    stat[target_col] = 0\n",
    "    stat.loc[stat[sum_column]>0, target_col] = stat[col] / stat[sum_column]\n",
    "    stat[target_col].fillna(0, inplace=True)\n",
    "first_column = stat.columns[1] + share_word + 'asukkaat'\n",
    "\n",
    "sum_column = 'Taloudet yhteensä, 2018 (TE)'\n",
    "for col in stat[col_list_stat_talous]:\n",
    "    target_col = col + share_word + 'taloudet'\n",
    "    stat[target_col] = 0\n",
    "    stat.loc[stat[sum_column]>0, target_col] = stat[col] / stat[sum_column]\n",
    "    stat[target_col].fillna(0, inplace=True)\n",
    "\n",
    "sum_column = '1. Verotuspäätöksen saajien lukumäärä Yhteensä Saajien lukumäärä'\n",
    "for col in stat[col_list_tax_persons]:\n",
    "    target_col = col + share_word + 'verotetut'\n",
    "    stat[target_col] = 0\n",
    "    stat.loc[stat[sum_column]>0, target_col] = stat[col] / stat[sum_column]\n",
    "    stat[target_col].fillna(0, inplace=True)\n",
    "middle_column = sum_column+ share_word + 'verotetut'"
   ]
  },
  {
   "cell_type": "code",
   "execution_count": 144,
   "metadata": {},
   "outputs": [],
   "source": [
    "import numpy as np\n",
    "start = stat.columns.get_loc(first_column)\n",
    "end = stat.columns.get_loc(stat.columns[-1])          \n",
    "col_list_share = stat.iloc[:,start:end+1].columns.to_list()\n",
    "group_column = 'total'\n",
    "\n",
    "col_list_add = ['Asuntojen keskipinta-ala, 2018 (RA)', \n",
    "                'Talotyypit yhteensä 2019 Neliöhinta (EUR/m2)', \n",
    "                'Asumisväljyys, 2018 (TE)']    \n",
    "\n",
    "col_list_share = col_list_share  + col_list_add\n",
    "\n",
    "for col in stat[col_list_share]:\n",
    "    target_col = col + \" osuus \" + group_column\n",
    "    stat[target_col] = stat[col] / stat[col].mean()\n",
    "    stat[target_col].replace([np.inf, -np.inf], np.nan, inplace=True)\n",
    "    stat[target_col].fillna(0, inplace=True)\n",
    "\n",
    "for col in stat[col_list_tax_euros]:\n",
    "    target_col = col + \" osuus \" + group_column\n",
    "    stat[target_col] = (stat[col] / stat['1. Verotuspäätöksen saajien lukumäärä Yhteensä Saajien lukumäärä']) / (stat[col].mean() / stat['1. Verotuspäätöksen saajien lukumäärä Yhteensä Saajien lukumäärä'].mean())\n",
    "    stat[target_col].replace([np.inf, -np.inf], np.nan, inplace=True)\n",
    "    stat[target_col].fillna(0, inplace=True)"
   ]
  },
  {
   "cell_type": "code",
   "execution_count": 148,
   "metadata": {},
   "outputs": [],
   "source": [
    "stat.drop(middle_column, axis=1, inplace=True)"
   ]
  },
  {
   "cell_type": "code",
   "execution_count": null,
   "metadata": {},
   "outputs": [],
   "source": [
    "stat."
   ]
  }
 ],
 "metadata": {
  "kernelspec": {
   "display_name": "Python 3",
   "language": "python",
   "name": "python3"
  },
  "language_info": {
   "codemirror_mode": {
    "name": "ipython",
    "version": 3
   },
   "file_extension": ".py",
   "mimetype": "text/x-python",
   "name": "python",
   "nbconvert_exporter": "python",
   "pygments_lexer": "ipython3",
   "version": "3.6.8"
  }
 },
 "nbformat": 4,
 "nbformat_minor": 4
}
