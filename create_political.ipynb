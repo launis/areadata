{
 "cells": [
  {
   "cell_type": "markdown",
   "metadata": {},
   "source": [
    "# Datojen haku ja esikäsittely"
   ]
  },
  {
   "cell_type": "code",
   "execution_count": 1,
   "metadata": {},
   "outputs": [],
   "source": [
    "import os\n",
    "apppath = 'areadata'\n",
    "\n",
    "if os.path.exists(apppath):\n",
    "    if os.getcwd() != apppath:\n",
    "        os.chdir(apppath)\n",
    "path = os.getcwd()\n",
    "path = os.path.join(path, \"data\")\n",
    "\n",
    "if not os.path.exists(path):\n",
    "    os.mkdir(path)\n"
   ]
  },
  {
   "cell_type": "code",
   "execution_count": 2,
   "metadata": {
    "scrolled": false
   },
   "outputs": [
    {
     "name": "stdout",
     "output_type": "stream",
     "text": [
      "read_and_prepare_data  read from start\n",
      "read_post_muncipalities  read from file\n",
      "read_stats_postcode  read from file\n",
      "read_ravintolat_ja_kaupat  read from file\n",
      "read_kiinteisto  read from file\n",
      "read_vaalit  read from file\n"
     ]
    }
   ],
   "source": [
    "from read_and_prepare_data import read_and_prepare_data\n",
    "stat, post, kunta_stat, vaalidata = read_and_prepare_data(path)"
   ]
  },
  {
   "cell_type": "markdown",
   "metadata": {},
   "source": [
    "start = stat.columns.get_loc('A Maatalous, metsätalous ja kalatalous, 2017 (TP) osuudesta asukkaat')\n",
    "end = stat.columns.get_loc('Postinumeroalueen pinta-ala osuus area_code')\n",
    "col_selected = stat.iloc[:,start:end].columns.to_list()\n",
    "\n",
    "\n",
    "\n",
    "col_puolueet = ['Ääniosuus KD',\n",
    "     'Ääniosuus KESK',\n",
    "     'Ääniosuus KOK',\n",
    "     'Ääniosuus PS',\n",
    "     'Ääniosuus RKP',\n",
    "     'Ääniosuus SDP',\n",
    "     'Ääniosuus VAS',\n",
    "     'Ääniosuus VIHR',\n",
    "     'Äänestysosuus']\n",
    "col_selected = col_selected + col_puolueet"
   ]
  },
  {
   "cell_type": "code",
   "execution_count": 3,
   "metadata": {},
   "outputs": [],
   "source": [
    "col_selected =  ['Miehet, 2018 (HE) osuudesta asukkaat',\n",
    "                 'Naiset, 2018 (HE) osuudesta asukkaat',\n",
    "                 'Asuntojen keskipinta-ala, 2018 (RA) osuus total',\n",
    "                 'Talotyypit yhteensä 2019 Neliöhinta (EUR/m2) osuus total',\n",
    "                 'Asumisväljyys, 2018 (TE) osuus total',\n",
    "                 'Asukkaiden keski-ikä, 2018 (HE) osuus total',\n",
    "                 'Postinumeroalueen pinta-ala osuus area_code',\n",
    "                 'Perusasteen suorittaneet, 2018 (KO) osuudesta asukkaat',\n",
    "                 'Ammatillisen tutkinnon suorittaneet, 2018 (KO) osuudesta asukkaat',\n",
    "                 'Ylioppilastutkinnon suorittaneet, 2018 (KO) osuudesta asukkaat',\n",
    "                 'Alemman korkeakoulututkinnon suorittaneet, 2018 (KO) osuudesta asukkaat',\n",
    "                 'Ylemmän korkeakoulututkinnon suorittaneet, 2018 (KO) osuudesta asukkaat',\n",
    "                 'Asukkaiden mediaanitulot, 2017 (HR) osuudesta asukkaat',\n",
    "                 'Asukkaiden ostovoimakertymä, 2017 (HR) osuudesta asukkaat',\n",
    "                 'Kerrostaloasunnot, 2018 (RA) osuudesta asukkaat',\n",
    "                 'Kesämökit yhteensä, 2018 (RA) osuudesta asukkaat',\n",
    "                 'Pientaloasunnot, 2018 (RA) osuudesta asukkaat',\n",
    "                 'Työlliset, 2017 (PT) osuudesta asukkaat',\n",
    "                 'Työttömät, 2017 (PT) osuudesta asukkaat',\n",
    "                 'Opiskelijat, 2017 (PT) osuudesta asukkaat',\n",
    "                 'A Maatalous, metsätalous ja kalatalous, 2017 (TP) osuudesta asukkaat',\n",
    "                 'B Kaivostoiminta ja louhinta, 2017 (TP) osuudesta asukkaat',\n",
    "                 'C Teollisuus, 2017 (TP) osuudesta asukkaat',\n",
    "                 'D Sähkö-, kaasu- ja lämpöhuolto, jäähdytysliiketoiminta, 2017 (TP) osuudesta asukkaat',\n",
    "                 'E Vesihuolto, viemäri- ja jätevesihuolto ja muu ympäristön puhtaanapito, 2017 (TP) osuudesta asukkaat',\n",
    "                 'F Rakentaminen, 2017 (TP) osuudesta asukkaat',\n",
    "                 'G Tukku- ja vähittäiskauppa; moottoriajoneuvojen ja moottoripyörien korjaus, 2017 (TP) osuudesta asukkaat',\n",
    "                 'H Kuljetus ja varastointi, 2017 (TP) osuudesta asukkaat',\n",
    "                 'I Majoitus- ja ravitsemistoiminta, 2017 (TP) osuudesta asukkaat',\n",
    "                 'J Informaatio ja viestintä, 2017 (TP) osuudesta asukkaat',\n",
    "                 'K Rahoitus- ja vakuutustoiminta, 2017 (TP) osuudesta asukkaat',\n",
    "                 'L Kiinteistöalan toiminta, 2017 (TP) osuudesta asukkaat',\n",
    "                 'M Ammatillinen, tieteellinen ja tekninen toiminta, 2017 (TP) osuudesta asukkaat',\n",
    "                 'N Hallinto- ja tukipalvelutoiminta, 2017 (TP) osuudesta asukkaat',\n",
    "                 'O Julkinen hallinto ja maanpuolustus; pakollinen sosiaalivakuutus, 2017 (TP) osuudesta asukkaat',\n",
    "                 'P Koulutus, 2017 (TP) osuudesta asukkaat',\n",
    "                 'Q Terveys- ja sosiaalipalvelut, 2017 (TP) osuudesta asukkaat',\n",
    "                 'R Taiteet, viihde ja virkistys, 2017 (TP) osuudesta asukkaat',\n",
    "                 'S Muu palvelutoiminta, 2017 (TP) osuudesta asukkaat',\n",
    "                 'T Kotitalouksien toiminta työnantajina; kotitalouksien eriyttämätön toiminta tavaroiden ja palveluiden tuottamiseksi omaan käyttöön, 2017 (TP) osuudesta asukkaat',\n",
    "                 'U Kansainvälisten organisaatioiden ja toimielinten toiminta, 2017 (TP) osuudesta asukkaat',\n",
    "                 'Ravintolat osuudesta asukkaat',\n",
    "                 'Myymälät osuudesta asukkaat',\n",
    "                 'Nuorten yksinasuvien taloudet, 2018 (TE) osuudesta taloudet',\n",
    "                 'Lapsettomat nuorten parien taloudet, 2018 (TE) osuudesta taloudet',\n",
    "                 'Lapsitaloudet, 2018 (TE) osuudesta taloudet',\n",
    "                 'Aikuisten taloudet, 2018 (TE) osuudesta taloudet',\n",
    "                 'Eläkeläisten taloudet, 2018 (TE) osuudesta taloudet',\n",
    "                 'Omistusasunnoissa asuvat taloudet, 2018 (TE) osuudesta taloudet',\n",
    "                 'Vuokra-asunnoissa asuvat taloudet, 2018 (TE) osuudesta taloudet',\n",
    "                 'Alimpaan tuloluokkaan kuuluvat taloudet, 2017 (TR) osuudesta taloudet',\n",
    "                 'Keskimmäiseen tuloluokkaan kuuluvat taloudet, 2017 (TR) osuudesta taloudet',\n",
    "                 'Ylimpään tuloluokkaan kuuluvat taloudet, 2017 (TR) osuudesta taloudet',\n",
    "                 '1.1.3 Kirkollisvero Yhteensä Saajien lukumäärä osuudesta verotetut',\n",
    "                 '11. Yrittäjätulot yhteensä Yhteensä Saajien lukumäärä osuudesta verotetut',\n",
    "                 '4.2.10 Muut veronalaiset sosiaalietuudet Yhteensä Saajien lukumäärä osuudesta verotetut',\n",
    "                 '4.2.6 Tapaturma- ym. muut päivärahat Yhteensä Saajien lukumäärä osuudesta verotetut',\n",
    "                 '4.2.7 Päivä- ja äitiyspäivärahat Yhteensä Saajien lukumäärä osuudesta verotetut',\n",
    "                 '4.2.8 Lapsen kotihoidon tuki Yhteensä Saajien lukumäärä osuudesta verotetut',\n",
    "                 '4.2.9 Kuntoutusraha ja -avustus Yhteensä Saajien lukumäärä osuudesta verotetut',\n",
    "                 '5.1.3 Vuokratulo Yhteensä Saajien lukumäärä osuudesta verotetut',\n",
    "                 '11.5.1.1 Asuntolainan korkomenot (TVL 58 § 2 mom.) Yhteensä Summa, euroa osuus total',\n",
    "                 '14.12 Opintolainavähennys Yhteensä Summa, euroa osuus total',\n",
    "                 '14.7 Kotitalousvähennys Yhteensä Summa, euroa osuus total',\n",
    "                 '2. Tulot yhteensä Yhteensä Summa, euroa osuus total',\n",
    "                 '1.1 Tuloverot yhteensä Yhteensä Summa, euroa osuus total',\n",
    "                 '4.1.C Autoetu Yhteensä Summa, euroa osuus total',\n",
    "                 '4.2 Työmatkakulujen perusteella palkkatulosta vähennettävä määrä (TVL 93 §) Yhteensä Summa, euroa osuus total',\n",
    "                 '5. Pääomatulot yhteensä Yhteensä Summa, euroa osuus total']\n",
    "\n"
   ]
  },
  {
   "cell_type": "code",
   "execution_count": 4,
   "metadata": {},
   "outputs": [],
   "source": [
    "from sklearn.feature_selection import  mutual_info_classif\n",
    "import pandas as pd\n",
    "\n",
    "from draw_and_create_clusters import create_kmeans_clusters \n",
    "\n",
    "from prepare_and_scale_data import prepare_and_scale_data\n",
    "from create_prediction import select_kbest\n",
    "from select_columns_and_clean_data import select_columns_and_clean_data\n",
    "\n",
    "from draw_and_create_clusters import draw_pca, drawTSNE,  display_scree_plot, display_circles, display_parallel_coordinates_centroids, display_factorial_planes\n",
    "from delete_outliers import delete_outliers\n",
    "\n",
    "%matplotlib inline\n",
    "%config InlineBackend.figure_format = 'retina'\n",
    "pd.options.display.max_colwidth = 100\n",
    "\n",
    "numeric_features = col_selected\n",
    "categorical_features=['language_code']\n",
    "\n",
    "selected = stat.copy()\n",
    "selected_vaalidata = vaalidata.copy()\n",
    "post_included = post.copy()\n",
    "\n",
    "selected = stat[(stat['muncipality_code']==49)].copy()\n",
    "selected_vaalidata = vaalidata[(vaalidata['Kuntanumero']==49)].copy()\n",
    "post_included = post[post['muncipality_code']==49]['postcode'].copy()\n",
    "\n",
    "\n",
    "selected = stat[(stat['muncipality_code']==91)].copy()\n",
    "selected_vaalidata = vaalidata[(vaalidata['Kuntanumero']==91)].copy()\n",
    "post_included = post[post['muncipality_code']==91]['postcode'].copy()\n",
    "\n",
    "selected = stat[stat['area_code']=='FI1B1'].copy()\n",
    "selected_vaalidata = vaalidata[vaalidata['area_code']=='FI1B1']\n",
    "post_included = post[post['area_code']=='FI1B1'].copy()\n",
    "\n",
    "selected = stat.copy()\n",
    "selected_vaalidata = vaalidata.copy()\n",
    "post_included = post.copy()\n",
    "\n",
    "data, X_scale, X = prepare_and_scale_data(selected, pd.DataFrame(), numeric_features, categorical_features)\n",
    "\n",
    "\n"
   ]
  },
  {
   "cell_type": "code",
   "execution_count": null,
   "metadata": {},
   "outputs": [],
   "source": [
    "import xgboost as xgb\n",
    "from sklearn.feature_selection import  mutual_info_classif\n",
    "\n",
    "from create_prediction import create_prediction\n",
    "values = data.sort_values(by=['Suurin_puolue numero'])['Suurin_puolue numero'].unique()\n",
    "j = 0\n",
    "for i in values:\n",
    "    j = j + 1\n",
    "    data.loc[data['Suurin_puolue numero']==i, 'Suurin_puolue numero uusi numero'] = j\n",
    "\n",
    "data.loc[:,'Suurin_puolue numero uusi numero'] = data['Suurin_puolue numero uusi numero'].astype(int) \n",
    "target = 'Suurin_puolue numero uusi numero'\n",
    "\n",
    "#Check\n",
    "#k_selected need to have correct values, if they are too large, evrything needs to be started again\n",
    "k_selected = 'all'\n",
    "\n",
    "test_size = 0.2\n",
    "\n",
    "#Scalers attributes\n",
    "kbest_score_func = mutual_info_classif\n",
    "#set values to model configuration attributes\n",
    "\n",
    "num_class = len(data['Suurin_puolue numero uusi numero']) + 1 #how many classes we are working with\n",
    "\n",
    "metric = 'merror'\n",
    "Skfold=False\n",
    "Verbose = False\n",
    "testing=True\n",
    "\n",
    "params = {\n",
    "    # Parameters that we are going to tune.\n",
    "    'objective':'multi:softmax',\n",
    "    'num_class' : num_class,\n",
    "    'booster' : 'gbtree',\n",
    "    'eval_metric' : metric\n",
    "} \n",
    "\n",
    "data, features_df, importance_df, model, params, dtest, X_train, y_train, X_test, y_test = create_prediction(data, data, target, kbest_score_func, metric, params, numeric_features, categorical_features, scaled=False, testing=True)\n",
    "\n",
    "from reset_party_number import reset_party_number\n",
    "data, class_names = reset_party_number(data)"
   ]
  },
  {
   "cell_type": "code",
   "execution_count": null,
   "metadata": {},
   "outputs": [],
   "source": [
    "from draw_all import draw_true_vs_predicted\n",
    "draw_true_vs_predicted(dtest, y_test, model, target)"
   ]
  },
  {
   "cell_type": "code",
   "execution_count": null,
   "metadata": {},
   "outputs": [],
   "source": [
    "from draw_all import draw_features\n",
    "show_rows = 10\n",
    "title = 'Features kbest'\n",
    "draw_features(features_df[features_df['Selected']==True].head(show_rows)['Score'], features_df[features_df['Selected']==True].head(show_rows)['Column'], title)"
   ]
  },
  {
   "cell_type": "code",
   "execution_count": null,
   "metadata": {},
   "outputs": [],
   "source": [
    "from draw_all import draw_features\n",
    "show_rows = 10\n",
    "title = 'Importance / gain'\n",
    "draw_features(importance_df[importance_df['Importance type']=='gain'].head(show_rows)['Score'], importance_df[importance_df['Importance type']=='gain'].head(show_rows)['Feature'], title)"
   ]
  },
  {
   "cell_type": "code",
   "execution_count": null,
   "metadata": {},
   "outputs": [],
   "source": [
    "from shap_tree import shap_tree\n",
    "explainer, shap_values, shap_interaction_values, shap_expected_value  = shap_tree(X_train, y_train, params)"
   ]
  },
  {
   "cell_type": "code",
   "execution_count": null,
   "metadata": {},
   "outputs": [],
   "source": [
    "import shap\n",
    "shap.summary_plot(shap_values, X_train,  max_display=25, class_names=class_names)"
   ]
  },
  {
   "cell_type": "code",
   "execution_count": null,
   "metadata": {},
   "outputs": [],
   "source": [
    "idx =0\n",
    "print(class_names[idx])\n",
    "shap.summary_plot(shap_values[idx], X_train,  max_display=15, plot_type = 'layered_violin')\n"
   ]
  },
  {
   "cell_type": "code",
   "execution_count": null,
   "metadata": {},
   "outputs": [],
   "source": [
    "from shap_vals import shap_vals\n",
    "idx = 0\n",
    "k2 =shap_vals(X_train, shap_values[idx])\n",
    "k2 =k2.tail(15)\n",
    "colorlist = k2['Sign']\n",
    "ax = k2.plot.barh(x='Variable',y='SHAP_abs',color = colorlist, title= class_names[idx], figsize=(5,6),legend=False)\n",
    "ax.set_xlabel(\"SHAP Value (Red = Positive Impact)\")"
   ]
  },
  {
   "cell_type": "code",
   "execution_count": null,
   "metadata": {},
   "outputs": [],
   "source": [
    "from sklearn.metrics import accuracy_score, f1_score, precision_score, recall_score, confusion_matrix\n",
    "from statsmodels.stats.proportion import proportion_confint\n",
    "\n",
    "\n",
    "y_pred = model.predict(dtest)\n",
    "lower, upper = proportion_confint(accuracy_score(y_test, y_pred) * len(y_test), len(y_test), 0.05)\n",
    "print(\"Accuracy: {}\".format(accuracy_score(y_test, y_pred)))\n",
    "print(\"F1 Score: \", f1_score(y_test, y_pred, average=\"macro\"))\n",
    "print(\"Precision Score: \", precision_score(y_test, y_pred, average=\"macro\", zero_division=0))\n",
    "print(\"Recall Score: \", recall_score(y_test, y_pred, average=\"macro\"))\n",
    "print('Confidence level lower=%.3f, upper=%.3f' % (lower, upper))"
   ]
  },
  {
   "cell_type": "code",
   "execution_count": null,
   "metadata": {},
   "outputs": [],
   "source": [
    "import geopandas as gp\n",
    "data = gp.GeoDataFrame(data, geometry='geometry')\n",
    "data.plot('Ennustettu_Suurin_puolue numero', color = data['Ennustettu_puoluevari'].to_list(), figsize=(10, 10))"
   ]
  },
  {
   "cell_type": "code",
   "execution_count": null,
   "metadata": {},
   "outputs": [],
   "source": [
    "from matplotlib.colors import LinearSegmentedColormap\n",
    "cmap = LinearSegmentedColormap.from_list('my cmap', ['black', 'black', 'deepskyblue', 'darkgreen', 'blue', 'gold',  'yellow', 'pink',  'red', 'green'])\n",
    "data.plot(column='Suurin_puolue numero',cmap=cmap, figsize=(10, 10))"
   ]
  },
  {
   "cell_type": "code",
   "execution_count": null,
   "metadata": {},
   "outputs": [],
   "source": [
    "import xgboost as xgb\n",
    "from sklearn.feature_selection import mutual_info_regression\n",
    "from create_prediction import create_prediction\n",
    "\n",
    "puolue = 'VIHR'\n",
    "target = 'Äänet yhteensä lkm ' + puolue\n",
    "\n",
    "ennustettu_puolue = 'Ennustettu_Äänet yhteensä lkm ' + puolue\n",
    "\n",
    "#set values to feature engineering attributes\n",
    "\n",
    "#Check\n",
    "#k_selected need to have correct values, if they are too large, evrything needs to be started again\n",
    "k_selected = 'all'\n",
    "\n",
    "test_size = 0.3\n",
    "\n",
    "#Scalers attributes\n",
    "kbest_score_func = mutual_info_regression \n",
    "\n",
    "\n",
    "metric = 'rmse'\n",
    "Skfold=False\n",
    "Verbose = False\n",
    "testing=True\n",
    "\n",
    "params = {\n",
    "    #Initial xgboost parameters to be automatically tuned\n",
    "    'objective':'reg:squarederror',\n",
    "    'booster' : 'gbtree',\n",
    "    'eval_metric' : metric\n",
    "    } \n",
    "\n",
    "\n",
    "\n",
    "data, features_df, importance_df, model, params, dtest, X_train, y_train, X_test, y_test = create_prediction(data, data, target, kbest_score_func, metric, params, numeric_features, categorical_features,scaled=False, testing=True)\n"
   ]
  },
  {
   "cell_type": "code",
   "execution_count": null,
   "metadata": {},
   "outputs": [],
   "source": [
    "from draw_all import draw_true_vs_predicted\n",
    "draw_true_vs_predicted(dtest, y_test, model, target)"
   ]
  },
  {
   "cell_type": "code",
   "execution_count": null,
   "metadata": {},
   "outputs": [],
   "source": [
    "laskennallinen = data[target].sum()\n",
    "ennuste = data[ennustettu_puolue].sum()\n",
    "aitotulos = selected_vaalidata[selected_vaalidata['Puolueen nimilyhenne suomeksi']==puolue].sum()['Äänet yhteensä lkm']\n",
    "print('Laskennallisen virhe aitoon tulokseen', (aitotulos - laskennallinen)/aitotulos)\n",
    "print('Ennusteen virhe aitoon tulokseen', (aitotulos - ennuste)/aitotulos)\n",
    "print('Ennusteen virhe laskennalliseen tulokseen', (laskennallinen - ennuste)/laskennallinen)\n",
    "aanet=selected.columns[selected.columns.str.startswith('Äänet yhteensä lkm')]\n",
    "print('Ennusteen mukainen ääniosuus', ennuste/selected_vaalidata[selected_vaalidata['Puolueen nimilyhenne suomeksi']=='Äänet']['Äänet yhteensä lkm'].sum())\n",
    "\n",
    "aaniosuus = selected_vaalidata[selected_vaalidata['Puolueen nimilyhenne suomeksi']==puolue].sum()['Äänet yhteensä lkm']/selected_vaalidata[selected_vaalidata['Puolueen nimilyhenne suomeksi']=='Äänet']['Äänet yhteensä lkm'].sum()\n",
    "print('Vaalien mukainen ääniosuus', aaniosuus)"
   ]
  },
  {
   "cell_type": "code",
   "execution_count": null,
   "metadata": {},
   "outputs": [],
   "source": [
    "from draw_all import draw_features\n",
    "show_rows = 10\n",
    "title = 'Features kbest'\n",
    "draw_features(features_df[features_df['Selected']==True].head(show_rows)['Score'], features_df[features_df['Selected']==True].head(show_rows)['Column'], title)"
   ]
  },
  {
   "cell_type": "code",
   "execution_count": null,
   "metadata": {},
   "outputs": [],
   "source": [
    "from shap_tree import shap_tree\n",
    "explainer, shap_values, shap_interaction_values, shap_expected_value  = shap_tree(X_train, y_train, params)"
   ]
  },
  {
   "cell_type": "code",
   "execution_count": null,
   "metadata": {},
   "outputs": [],
   "source": [
    "import shap\n",
    "shap.summary_plot(shap_values, X_train,  max_display=15)"
   ]
  },
  {
   "cell_type": "code",
   "execution_count": null,
   "metadata": {},
   "outputs": [],
   "source": [
    "shap.decision_plot(shap_expected_value, shap_values, feature_names=X_train.columns.to_list())"
   ]
  },
  {
   "cell_type": "code",
   "execution_count": null,
   "metadata": {},
   "outputs": [],
   "source": [
    "from shap_vals import shap_vals\n",
    "k2=shap_vals(X_train, shap_values)\n",
    "k2=k2.tail(25)\n",
    "colorlist = k2['Sign']\n",
    "ax = k2.plot.barh(x='Variable',y='SHAP_abs',color = colorlist, figsize=(5,6),legend=False)\n",
    "ax.set_xlabel(\"SHAP Value (Red = Positive Impact)\")"
   ]
  },
  {
   "cell_type": "code",
   "execution_count": null,
   "metadata": {},
   "outputs": [],
   "source": []
  }
 ],
 "metadata": {
  "kernelspec": {
   "display_name": "Python 3",
   "language": "python",
   "name": "python3"
  },
  "language_info": {
   "codemirror_mode": {
    "name": "ipython",
    "version": 3
   },
   "file_extension": ".py",
   "mimetype": "text/x-python",
   "name": "python",
   "nbconvert_exporter": "python",
   "pygments_lexer": "ipython3",
   "version": "3.6.8"
  }
 },
 "nbformat": 4,
 "nbformat_minor": 4
}
