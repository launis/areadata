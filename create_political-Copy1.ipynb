{
 "cells": [
  {
   "cell_type": "markdown",
   "metadata": {},
   "source": [
    "# Datojen haku ja esikäsittely"
   ]
  },
  {
   "cell_type": "code",
   "execution_count": 1,
   "metadata": {},
   "outputs": [],
   "source": [
    "from set_path import set_path\n",
    "mainpath, path = set_path('areadata')"
   ]
  },
  {
   "cell_type": "code",
   "execution_count": 2,
   "metadata": {
    "scrolled": false
   },
   "outputs": [
    {
     "name": "stdout",
     "output_type": "stream",
     "text": [
      "read_and_prepare_data  read from start\n",
      "read_post_muncipalities  read from file\n",
      "read_stats_postcode  read from file\n",
      "read_ravintolat_ja_kaupat  read from file\n",
      "read_kiinteisto  read from file\n",
      "read_vaalit  read from file\n"
     ]
    }
   ],
   "source": [
    "from read_and_prepare_data import read_and_prepare_data\n",
    "stat, post, kunta_stat, vaalidata = read_and_prepare_data(path)"
   ]
  },
  {
   "cell_type": "markdown",
   "metadata": {},
   "source": [
    "start = stat.columns.get_loc('A Maatalous, metsätalous ja kalatalous, 2017 (TP) osuudesta asukkaat')\n",
    "end = stat.columns.get_loc('Postinumeroalueen pinta-ala osuus area_code')\n",
    "col_selected = stat.iloc[:,start:end].columns.to_list()\n",
    "\n",
    "\n",
    "\n",
    "col_puolueet = ['Ääniosuus KD',\n",
    "     'Ääniosuus KESK',\n",
    "     'Ääniosuus KOK',\n",
    "     'Ääniosuus PS',\n",
    "     'Ääniosuus RKP',\n",
    "     'Ääniosuus SDP',\n",
    "     'Ääniosuus VAS',\n",
    "     'Ääniosuus VIHR',\n",
    "     'Äänestysosuus']\n",
    "col_selected = col_selected + col_puolueet"
   ]
  },
  {
   "cell_type": "code",
   "execution_count": 13,
   "metadata": {},
   "outputs": [],
   "source": [
    "col_selected =  ['Miehet, 2018 (HE) osuudesta asukkaat',\n",
    "                 'Naiset, 2018 (HE) osuudesta asukkaat',\n",
    "                 'Asuntojen keskipinta-ala, 2018 (RA) osuus total',\n",
    "                 'Talotyypit yhteensä 2019 Neliöhinta (EUR/m2) osuus total',\n",
    "                 'Asumisväljyys, 2018 (TE) osuus total',\n",
    "                 'Asukkaiden keski-ikä, 2018 (HE) osuus total',\n",
    "                 'Postinumeroalueen pinta-ala osuus area_code',\n",
    "                 'Perusasteen suorittaneet, 2018 (KO) osuudesta asukkaat',\n",
    "                 'Ammatillisen tutkinnon suorittaneet, 2018 (KO) osuudesta asukkaat',\n",
    "                 'Ylioppilastutkinnon suorittaneet, 2018 (KO) osuudesta asukkaat',\n",
    "                 'Alemman korkeakoulututkinnon suorittaneet, 2018 (KO) osuudesta asukkaat',\n",
    "                 'Ylemmän korkeakoulututkinnon suorittaneet, 2018 (KO) osuudesta asukkaat',\n",
    "                 'Asukkaiden mediaanitulot, 2017 (HR) osuudesta asukkaat',\n",
    "                 'Asukkaiden ostovoimakertymä, 2017 (HR) osuudesta asukkaat',\n",
    "                 'Kerrostaloasunnot, 2018 (RA) osuudesta asukkaat',\n",
    "                 'Kesämökit yhteensä, 2018 (RA) osuudesta asukkaat',\n",
    "                 'Pientaloasunnot, 2018 (RA) osuudesta asukkaat',\n",
    "                 'Työlliset, 2017 (PT) osuudesta asukkaat',\n",
    "                 'Työttömät, 2017 (PT) osuudesta asukkaat',\n",
    "                 'Opiskelijat, 2017 (PT) osuudesta asukkaat',\n",
    "                 'A Maatalous, metsätalous ja kalatalous, 2017 (TP) osuudesta asukkaat',\n",
    "                 'B Kaivostoiminta ja louhinta, 2017 (TP) osuudesta asukkaat',\n",
    "                 'C Teollisuus, 2017 (TP) osuudesta asukkaat',\n",
    "                 'D Sähkö-, kaasu- ja lämpöhuolto, jäähdytysliiketoiminta, 2017 (TP) osuudesta asukkaat',\n",
    "                 'E Vesihuolto, viemäri- ja jätevesihuolto ja muu ympäristön puhtaanapito, 2017 (TP) osuudesta asukkaat',\n",
    "                 'F Rakentaminen, 2017 (TP) osuudesta asukkaat',\n",
    "                 'G Tukku- ja vähittäiskauppa; moottoriajoneuvojen ja moottoripyörien korjaus, 2017 (TP) osuudesta asukkaat',\n",
    "                 'H Kuljetus ja varastointi, 2017 (TP) osuudesta asukkaat',\n",
    "                 'I Majoitus- ja ravitsemistoiminta, 2017 (TP) osuudesta asukkaat',\n",
    "                 'J Informaatio ja viestintä, 2017 (TP) osuudesta asukkaat',\n",
    "                 'K Rahoitus- ja vakuutustoiminta, 2017 (TP) osuudesta asukkaat',\n",
    "                 'L Kiinteistöalan toiminta, 2017 (TP) osuudesta asukkaat',\n",
    "                 'M Ammatillinen, tieteellinen ja tekninen toiminta, 2017 (TP) osuudesta asukkaat',\n",
    "                 'N Hallinto- ja tukipalvelutoiminta, 2017 (TP) osuudesta asukkaat',\n",
    "                 'O Julkinen hallinto ja maanpuolustus; pakollinen sosiaalivakuutus, 2017 (TP) osuudesta asukkaat',\n",
    "                 'P Koulutus, 2017 (TP) osuudesta asukkaat',\n",
    "                 'Q Terveys- ja sosiaalipalvelut, 2017 (TP) osuudesta asukkaat',\n",
    "                 'R Taiteet, viihde ja virkistys, 2017 (TP) osuudesta asukkaat',\n",
    "                 'S Muu palvelutoiminta, 2017 (TP) osuudesta asukkaat',\n",
    "                 'T Kotitalouksien toiminta työnantajina; kotitalouksien eriyttämätön toiminta tavaroiden ja palveluiden tuottamiseksi omaan käyttöön, 2017 (TP) osuudesta asukkaat',\n",
    "                 'U Kansainvälisten organisaatioiden ja toimielinten toiminta, 2017 (TP) osuudesta asukkaat',\n",
    "                 'Ravintolat osuudesta asukkaat',\n",
    "                 'Myymälät osuudesta asukkaat',\n",
    "                 'Nuorten yksinasuvien taloudet, 2018 (TE) osuudesta taloudet',\n",
    "                 'Lapsettomat nuorten parien taloudet, 2018 (TE) osuudesta taloudet',\n",
    "                 'Lapsitaloudet, 2018 (TE) osuudesta taloudet',\n",
    "                 'Teini-ikäisten lasten taloudet, 2018 (TE) osuudesta taloudet',\n",
    "                 'Aikuisten taloudet, 2018 (TE) osuudesta taloudet',\n",
    "                 'Eläkeläisten taloudet, 2018 (TE) osuudesta taloudet',\n",
    "                 'Omistusasunnoissa asuvat taloudet, 2018 (TE) osuudesta taloudet',\n",
    "                 'Vuokra-asunnoissa asuvat taloudet, 2018 (TE) osuudesta taloudet',\n",
    "                 'Alimpaan tuloluokkaan kuuluvat taloudet, 2017 (TR) osuudesta taloudet',\n",
    "                 'Keskimmäiseen tuloluokkaan kuuluvat taloudet, 2017 (TR) osuudesta taloudet',\n",
    "                 'Ylimpään tuloluokkaan kuuluvat taloudet, 2017 (TR) osuudesta taloudet',\n",
    "                 '1.1.3 Kirkollisvero Yhteensä Saajien lukumäärä osuudesta verotetut',\n",
    "                 '11. Yrittäjätulot yhteensä Yhteensä Saajien lukumäärä osuudesta verotetut',\n",
    "                 '4.2.10 Muut veronalaiset sosiaalietuudet Yhteensä Saajien lukumäärä osuudesta verotetut',\n",
    "                 '4.2.6 Tapaturma- ym. muut päivärahat Yhteensä Saajien lukumäärä osuudesta verotetut',\n",
    "                 '4.2.7 Päivä- ja äitiyspäivärahat Yhteensä Saajien lukumäärä osuudesta verotetut',\n",
    "                 '4.2.8 Lapsen kotihoidon tuki Yhteensä Saajien lukumäärä osuudesta verotetut',\n",
    "                 '4.2.9 Kuntoutusraha ja -avustus Yhteensä Saajien lukumäärä osuudesta verotetut',\n",
    "                 '5.1.3 Vuokratulo Yhteensä Saajien lukumäärä osuudesta verotetut',\n",
    "                 '11.5.1.1 Asuntolainan korkomenot (TVL 58 § 2 mom.) Yhteensä Summa, euroa osuus total',\n",
    "                 '14.12 Opintolainavähennys Yhteensä Summa, euroa osuus total',\n",
    "                 '14.7 Kotitalousvähennys Yhteensä Summa, euroa osuus total',\n",
    "                 '2. Tulot yhteensä Yhteensä Summa, euroa osuus total',\n",
    "                 '1.1 Tuloverot yhteensä Yhteensä Summa, euroa osuus total',\n",
    "                 '4.1.C Autoetu Yhteensä Summa, euroa osuus total',\n",
    "                 '4.2 Työmatkakulujen perusteella palkkatulosta vähennettävä määrä (TVL 93 §) Yhteensä Summa, euroa osuus total',\n",
    "                 '5. Pääomatulot yhteensä Yhteensä Summa, euroa osuus total']\n",
    "\n"
   ]
  },
  {
   "cell_type": "code",
   "execution_count": 14,
   "metadata": {},
   "outputs": [],
   "source": [
    "from sklearn.feature_selection import  mutual_info_classif\n",
    "import pandas as pd\n",
    "\n",
    "from draw_and_create_clusters import create_kmeans_clusters \n",
    "\n",
    "from prepare_and_scale_data import prepare_and_scale_data\n",
    "from create_prediction import select_kbest\n",
    "from select_columns_and_clean_data import select_columns_and_clean_data\n",
    "\n",
    "from draw_and_create_clusters import draw_pca, drawTSNE,  display_scree_plot, display_circles, display_parallel_coordinates_centroids, display_factorial_planes\n",
    "from delete_outliers import delete_outliers\n",
    "\n",
    "%matplotlib inline\n",
    "%config InlineBackend.figure_format = 'retina'\n",
    "pd.options.display.max_colwidth = 100\n",
    "\n",
    "numeric_features = col_selected\n",
    "categorical_features=['language_code']\n",
    "\n",
    "selected = stat.copy()\n",
    "selected_vaalidata = vaalidata.copy()\n",
    "post_included = post.copy()\n",
    "\n",
    "selected = stat[(stat['muncipality_code']==49)].copy()\n",
    "selected_vaalidata = vaalidata[(vaalidata['Kuntanumero']==49)].copy()\n",
    "post_included = post[post['muncipality_code']==49]['postcode'].copy()\n",
    "\n",
    "\n",
    "selected = stat[(stat['muncipality_code']==91)].copy()\n",
    "selected_vaalidata = vaalidata[(vaalidata['Kuntanumero']==91)].copy()\n",
    "post_included = post[post['muncipality_code']==91]['postcode'].copy()\n",
    "\n",
    "selected = stat[stat['area_code']=='FI1B1'].copy()\n",
    "selected_vaalidata = vaalidata[vaalidata['area_code']=='FI1B1'].copy()\n",
    "post_included = post[post['area_code']=='FI1B1'].copy()\n",
    "\n",
    "selected = stat.copy()\n",
    "selected_vaalidata = vaalidata.copy()\n",
    "post_included = post.copy()\n",
    "\n",
    "data, X_scale, X = prepare_and_scale_data(selected, pd.DataFrame(), numeric_features, categorical_features)\n",
    "\n",
    "\n"
   ]
  },
  {
   "cell_type": "code",
   "execution_count": 15,
   "metadata": {},
   "outputs": [],
   "source": [
    "from create_tensorpad_path import create_tensorpad_path \n",
    "log_dir, log_path = create_tensorpad_path(mainpath)"
   ]
  },
  {
   "cell_type": "code",
   "execution_count": 16,
   "metadata": {},
   "outputs": [
    {
     "name": "stdout",
     "output_type": "stream",
     "text": [
      "The tensorboard extension is already loaded. To reload it, use:\n",
      "  %reload_ext tensorboard\n"
     ]
    }
   ],
   "source": [
    "import pathlib\n",
    "\n",
    "import matplotlib.pyplot as plt\n",
    "import numpy as np\n",
    "import pandas as pd\n",
    "import seaborn as sns\n",
    "import tensorflow as tf\n",
    "\n",
    "from sklearn.metrics import mean_squared_error\n",
    "from math import sqrt\n",
    "\n",
    "from tensorflow import keras\n",
    "from tensorflow.keras import layers\n",
    "import tensorflow as tf  \n",
    "from tensorflow.keras.layers import Input, Dense, Dropout, Activation\n",
    "from tensorflow.keras.models import Model\n",
    "import numpy as np\n",
    "\n",
    "# Load the TensorBoard notebook extension\n",
    "%load_ext tensorboard\n",
    "\n",
    "from sklearn.model_selection import train_test_split\n",
    "\n",
    "import datetime\n",
    "from sklearn.metrics import mean_squared_error\n",
    "\n"
   ]
  },
  {
   "cell_type": "code",
   "execution_count": 17,
   "metadata": {},
   "outputs": [
    {
     "name": "stdout",
     "output_type": "stream",
     "text": [
      "Train for 40 steps, validate for 22 steps\n",
      "Epoch 1/50\n",
      "40/40 [==============================] - 4s 91ms/step - loss: 65601.0571 - mean_squared_error: 66575.8047 - val_loss: 59701.2822 - val_mean_squared_error: 61824.1836\n",
      "Epoch 2/50\n",
      "40/40 [==============================] - 1s 34ms/step - loss: 38119.8157 - mean_squared_error: 38827.3477 - val_loss: 47054.8841 - val_mean_squared_error: 48697.6680\n",
      "Epoch 3/50\n",
      "40/40 [==============================] - 1s 33ms/step - loss: 33601.0372 - mean_squared_error: 34192.7031 - val_loss: 44586.9248 - val_mean_squared_error: 46092.7031\n",
      "Epoch 4/50\n",
      "40/40 [==============================] - 2s 39ms/step - loss: 31394.8417 - mean_squared_error: 31957.1074 - val_loss: 41659.3585 - val_mean_squared_error: 42905.5547s - loss: 32093.5070 - mean_squared_error: 32093.51\n",
      "Epoch 5/50\n",
      "40/40 [==============================] - 2s 39ms/step - loss: 29759.5984 - mean_squared_error: 30308.5586 - val_loss: 40466.1695 - val_mean_squared_error: 41655.4141\n",
      "Epoch 6/50\n",
      "40/40 [==============================] - 2s 39ms/step - loss: 28849.4369 - mean_squared_error: 29260.0000 - val_loss: 37545.8753 - val_mean_squared_error: 38619.9570\n",
      "Epoch 7/50\n",
      "40/40 [==============================] - 1s 35ms/step - loss: 26534.8952 - mean_squared_error: 26880.5840 - val_loss: 35532.4926 - val_mean_squared_error: 36376.2500\n",
      "Epoch 8/50\n",
      "40/40 [==============================] - 1s 37ms/step - loss: 26032.3183 - mean_squared_error: 26252.5078 - val_loss: 34440.4293 - val_mean_squared_error: 35420.4961\n",
      "Epoch 9/50\n",
      "40/40 [==============================] - 1s 35ms/step - loss: 22853.2821 - mean_squared_error: 23075.8594 - val_loss: 33889.6136 - val_mean_squared_error: 34574.8672\n",
      "Epoch 10/50\n",
      "40/40 [==============================] - 2s 40ms/step - loss: 22670.2526 - mean_squared_error: 22563.1426 - val_loss: 35738.9175 - val_mean_squared_error: 36766.1836\n",
      "Epoch 11/50\n",
      "40/40 [==============================] - 2s 38ms/step - loss: 21546.0789 - mean_squared_error: 21934.3770 - val_loss: 34193.7029 - val_mean_squared_error: 35275.7891\n",
      "Epoch 00011: early stopping\n",
      "33/33 [==============================] - 0s 11ms/step - loss: 29307.8012 - mean_squared_error: 29687.3613\n",
      "{'loss': 29307.80116595644, 'mean_squared_error': 29687.361}\n",
      "144.75901414395966\n",
      "172.30022544048924\n"
     ]
    }
   ],
   "source": [
    "from get_compiled_model import get_compiled_model\n",
    "\n",
    "\n",
    "data, X_scale, X = prepare_and_scale_data(selected, pd.DataFrame(), numeric_features, categorical_features)\n",
    "\n",
    "list_of_partiest = ['VIHR', 'KOK', 'SDP', 'KD', 'KESK', 'RKP', 'PS', 'VAS']\n",
    "target = ['Äänet yhteensä lkm VIHR',\n",
    " 'Äänet yhteensä lkm KOK',\n",
    " 'Äänet yhteensä lkm SDP',\n",
    " 'Äänet yhteensä lkm KD',\n",
    " 'Äänet yhteensä lkm KESK',\n",
    " 'Äänet yhteensä lkm RKP',\n",
    " 'Äänet yhteensä lkm PS',\n",
    " 'Äänet yhteensä lkm VAS']\n",
    "\n",
    "y = data[target]\n",
    "\n",
    "X_train, X_test, y_train, y_test = train_test_split(X_scale, y, test_size=0.35)\n",
    "X_train, X_val, y_train, y_val = train_test_split(X_train, y_train, test_size=0.35)\n",
    "\n",
    "# Prepare the training dataset\n",
    "train_dataset = tf.data.Dataset.from_tensor_slices((X_train.values, y_train.values))\n",
    "train_dataset = train_dataset.shuffle(buffer_size=1024).batch(32)\n",
    "\n",
    "# Prepare the test dataset\n",
    "test_dataset = tf.data.Dataset.from_tensor_slices((X_test.values, y_test.values))\n",
    "test_dataset = test_dataset.batch(32)\n",
    "\n",
    "# Prepare the validation dataset\n",
    "val_dataset = tf.data.Dataset.from_tensor_slices((X_val.values, y_val.values))\n",
    "val_dataset = val_dataset.batch(32)\n",
    "\n",
    "\n",
    "model, callbacks = get_compiled_model(X, target, log_dir)\n",
    "\n",
    "history = model.fit(train_dataset, epochs=50, validation_data=val_dataset, callbacks=callbacks)\n",
    "\n",
    "result = model.evaluate(test_dataset)\n",
    "print(dict(zip(model.metrics_names, result)))\n",
    "\n",
    "\n",
    "pred_train = model.predict(X_train)\n",
    "print(np.sqrt(mean_squared_error(y_train,pred_train)))\n",
    "\n",
    "pred = model.predict(X_test)\n",
    "print(np.sqrt(mean_squared_error(y_test,pred)))\n",
    "\n",
    "hist = pd.DataFrame(history.history)\n",
    "hist['epoch'] = history.epoch\n",
    "\n",
    "pred_all = model.predict(X_scale)\n",
    "pred_df = pd.DataFrame(pred_all, columns = target)\n",
    "\n"
   ]
  },
  {
   "cell_type": "code",
   "execution_count": 18,
   "metadata": {},
   "outputs": [
    {
     "data": {
      "image/png": "[encoded data removed]",
      "text/plain": [
       "<Figure size 432x288 with 1 Axes>"
      ]
     },
     "metadata": {
      "image/png": {
       "height": 261,
       "width": 401
      },
      "needs_background": "light"
     },
     "output_type": "display_data"
    }
   ],
   "source": [
    "def plot_history(history):\n",
    "  hist = pd.DataFrame(history.history)\n",
    "  hist['epoch'] = history.epoch\n",
    "\n",
    "  plt.figure()\n",
    "  plt.xlabel('Epoch')\n",
    "  plt.ylabel('Mean Squared Error')\n",
    "  plt.plot(hist['epoch'], hist['mean_squared_error'],\n",
    "           label='Train Error')\n",
    "  plt.plot(hist['epoch'], hist['val_mean_squared_error'],\n",
    "           label = 'Val Error')\n",
    "  plt.legend()\n",
    "  plt.show()\n",
    "\n",
    "plot_history(history)"
   ]
  },
  {
   "cell_type": "code",
   "execution_count": 19,
   "metadata": {
    "scrolled": true
   },
   "outputs": [
    {
     "name": "stdout",
     "output_type": "stream",
     "text": [
      "VIHR  lasketut äänet: Aitotulos  354152 Laskennallinen  344923 Ennuste  354079\n",
      "Laskennallisen virhe aitoon tulokseen 2.606 %\n",
      "Ennusteen virhe aitoon tulokseen 0.021 %\n",
      "Ennusteen virhe laskennalliseen tulokseen -2.654 %\n",
      "\n",
      "KOK  lasketut äänet: Aitotulos  523924 Laskennallinen  514725 Ennuste  450143\n",
      "Laskennallisen virhe aitoon tulokseen 1.756 %\n",
      "Ennusteen virhe aitoon tulokseen 14.082 %\n",
      "Ennusteen virhe laskennalliseen tulokseen 12.547 %\n",
      "\n",
      "SDP  lasketut äänet: Aitotulos  546263 Laskennallinen  538933 Ennuste  466611\n",
      "Laskennallisen virhe aitoon tulokseen 1.342 %\n",
      "Ennusteen virhe aitoon tulokseen 14.581 %\n",
      "Ennusteen virhe laskennalliseen tulokseen 13.419 %\n",
      "\n",
      "KD  lasketut äänet: Aitotulos  120019 Laskennallinen  117317 Ennuste  87779\n",
      "Laskennallisen virhe aitoon tulokseen 2.251 %\n",
      "Ennusteen virhe aitoon tulokseen 26.862 %\n",
      "Ennusteen virhe laskennalliseen tulokseen 25.178 %\n",
      "\n",
      "KESK  lasketut äänet: Aitotulos  423511 Laskennallinen  415357 Ennuste  354905\n",
      "Laskennallisen virhe aitoon tulokseen 1.925 %\n",
      "Ennusteen virhe aitoon tulokseen 16.199 %\n",
      "Ennusteen virhe laskennalliseen tulokseen 14.554 %\n",
      "\n",
      "RKP  lasketut äänet: Aitotulos  139640 Laskennallinen  135742 Ennuste  138141\n",
      "Laskennallisen virhe aitoon tulokseen 2.791 %\n",
      "Ennusteen virhe aitoon tulokseen 1.074 %\n",
      "Ennusteen virhe laskennalliseen tulokseen -1.767 %\n",
      "\n",
      "PS  lasketut äänet: Aitotulos  538583 Laskennallinen  530467 Ennuste  452021\n",
      "Laskennallisen virhe aitoon tulokseen 1.507 %\n",
      "Ennusteen virhe aitoon tulokseen 16.072 %\n",
      "Ennusteen virhe laskennalliseen tulokseen 14.788 %\n",
      "\n",
      "VAS  lasketut äänet: Aitotulos  251749 Laskennallinen  245872 Ennuste  236519\n",
      "Laskennallisen virhe aitoon tulokseen 2.334 %\n",
      "Ennusteen virhe aitoon tulokseen 6.05 %\n",
      "Ennusteen virhe laskennalliseen tulokseen 3.804 %\n",
      "\n",
      "Lasketut äänet:Laskennallinen  2843336 Ennuste  2540197 Err  1379620\n"
     ]
    }
   ],
   "source": [
    "i = 0\n",
    "lask = 0\n",
    "err = 0\n",
    "enn = 0\n",
    "for t in list_of_partiest:\n",
    "\n",
    "    laskennallinen = data[target].sum()[i]\n",
    "    ennuste = pred_df.sum()[i]\n",
    "    lask = lask + laskennallinen\n",
    "    enn = enn + ennuste\n",
    "    err = err + abs(lask-enn)\n",
    "    \n",
    "    aitotulos = selected_vaalidata[selected_vaalidata['Puolueen nimilyhenne suomeksi']==t].sum()['Äänet yhteensä lkm']\n",
    "    print(t, ' lasketut äänet: Aitotulos ', round(aitotulos), 'Laskennallinen ', round(laskennallinen), 'Ennuste ', round(ennuste))\n",
    "    print('Laskennallisen virhe aitoon tulokseen', round(100*(aitotulos - laskennallinen)/aitotulos,3),'%')\n",
    "    print('Ennusteen virhe aitoon tulokseen', round(100*(aitotulos - ennuste)/aitotulos,3),'%')\n",
    "    print('Ennusteen virhe laskennalliseen tulokseen', round(100*(laskennallinen - ennuste)/laskennallinen,3),'%')\n",
    "    print()\n",
    "    i = i+1\n",
    "\n",
    "print('Lasketut äänet:Laskennallinen ', round(lask), 'Ennuste ', round(enn), 'Err ', round(err))\n",
    "\n"
   ]
  },
  {
   "cell_type": "code",
   "execution_count": null,
   "metadata": {},
   "outputs": [],
   "source": [
    "#%tensorboard --logdir=log_path"
   ]
  },
  {
   "cell_type": "code",
   "execution_count": null,
   "metadata": {},
   "outputs": [],
   "source": [
    "import xgboost as xgb\n",
    "from sklearn.feature_selection import  mutual_info_classif\n",
    "\n",
    "from create_prediction import create_prediction\n",
    "values = data.sort_values(by=['Suurin_puolue numero'])['Suurin_puolue numero'].unique()\n",
    "j = 0\n",
    "for i in values:\n",
    "    j = j + 1\n",
    "    data.loc[data['Suurin_puolue numero']==i, 'Suurin_puolue numero uusi numero'] = j\n",
    "\n",
    "data.loc[:,'Suurin_puolue numero uusi numero'] = data['Suurin_puolue numero uusi numero'].astype(int) \n",
    "target = 'Suurin_puolue numero uusi numero'\n",
    "\n",
    "#Check\n",
    "#k_selected need to have correct values, if they are too large, evrything needs to be started again\n",
    "k_selected = 'all'\n",
    "\n",
    "test_size = 0.2\n",
    "\n",
    "#Scalers attributes\n",
    "kbest_score_func = mutual_info_classif\n",
    "#set values to model configuration attributes\n",
    "\n",
    "num_class = len(data['Suurin_puolue numero uusi numero'].unique()) + 1 #how many classes we are working with\n",
    "\n",
    "metric = 'merror'\n",
    "Skfold=False\n",
    "Verbose = False\n",
    "testing=True\n",
    "\n",
    "params = {\n",
    "    # Parameters that we are going to tune.\n",
    "    'objective':'multi:softmax',\n",
    "    'num_class' : num_class,\n",
    "    'booster' : 'gbtree',\n",
    "    'eval_metric' : metric\n",
    "} \n",
    "\n",
    "data, features_df, importance_df, model, params, dtest, X_train, y_train, X_test, y_test = create_prediction(data, data, target, kbest_score_func, metric, params, numeric_features, categorical_features, scaled=False, testing=True)\n",
    "\n",
    "from reset_party_number import reset_party_number\n",
    "data, class_names = reset_party_number(data)"
   ]
  },
  {
   "cell_type": "code",
   "execution_count": null,
   "metadata": {},
   "outputs": [],
   "source": [
    " len(data['Suurin_puolue numero uusi numero'].unique()) + 1"
   ]
  },
  {
   "cell_type": "code",
   "execution_count": null,
   "metadata": {},
   "outputs": [],
   "source": [
    "from draw_all import draw_true_vs_predicted\n",
    "draw_true_vs_predicted(dtest, y_test, model, target)"
   ]
  },
  {
   "cell_type": "code",
   "execution_count": null,
   "metadata": {},
   "outputs": [],
   "source": [
    "from draw_all import draw_features\n",
    "show_rows = 10\n",
    "title = 'Features kbest'\n",
    "draw_features(features_df[features_df['Selected']==True].head(show_rows)['Score'], features_df[features_df['Selected']==True].head(show_rows)['Column'], title)"
   ]
  },
  {
   "cell_type": "code",
   "execution_count": null,
   "metadata": {},
   "outputs": [],
   "source": [
    "from draw_all import draw_features\n",
    "show_rows = 10\n",
    "title = 'Importance / gain'\n",
    "draw_features(importance_df[importance_df['Importance type']=='gain'].head(show_rows)['Score'], importance_df[importance_df['Importance type']=='gain'].head(show_rows)['Feature'], title)"
   ]
  },
  {
   "cell_type": "code",
   "execution_count": null,
   "metadata": {},
   "outputs": [],
   "source": [
    "from shap_tree import shap_tree\n",
    "explainer, shap_values, shap_interaction_values, shap_expected_value  = shap_tree(X_train, y_train, params)"
   ]
  },
  {
   "cell_type": "code",
   "execution_count": null,
   "metadata": {},
   "outputs": [],
   "source": [
    "import shap\n",
    "shap.summary_plot(shap_values, X_train,  max_display=25, class_names=class_names)"
   ]
  },
  {
   "cell_type": "code",
   "execution_count": null,
   "metadata": {},
   "outputs": [],
   "source": [
    "idx =0\n",
    "print(class_names[idx])\n",
    "shap.summary_plot(shap_values[idx], X_train,  max_display=15, plot_type = 'layered_violin')\n"
   ]
  },
  {
   "cell_type": "code",
   "execution_count": null,
   "metadata": {},
   "outputs": [],
   "source": [
    "from shap_vals import shap_vals\n",
    "idx = 0\n",
    "k2 =shap_vals(X_train, shap_values[idx])\n",
    "k2 =k2.tail(15)\n",
    "colorlist = k2['Sign']\n",
    "ax = k2.plot.barh(x='Variable',y='SHAP_abs',color = colorlist, title= class_names[idx], figsize=(5,6),legend=False)\n",
    "ax.set_xlabel(\"SHAP Value (Red = Positive Impact)\")"
   ]
  },
  {
   "cell_type": "code",
   "execution_count": null,
   "metadata": {},
   "outputs": [],
   "source": [
    "from sklearn.metrics import accuracy_score, f1_score, precision_score, recall_score, confusion_matrix\n",
    "from statsmodels.stats.proportion import proportion_confint\n",
    "\n",
    "\n",
    "y_pred = model.predict(dtest)\n",
    "lower, upper = proportion_confint(accuracy_score(y_test, y_pred) * len(y_test), len(y_test), 0.05)\n",
    "print(\"Accuracy: {}\".format(accuracy_score(y_test, y_pred)))\n",
    "print(\"F1 Score: \", f1_score(y_test, y_pred, average=\"macro\"))\n",
    "print(\"Precision Score: \", precision_score(y_test, y_pred, average=\"macro\", zero_division=0))\n",
    "print(\"Recall Score: \", recall_score(y_test, y_pred, average=\"macro\"))\n",
    "print('Confidence level lower=%.3f, upper=%.3f' % (lower, upper))"
   ]
  },
  {
   "cell_type": "code",
   "execution_count": null,
   "metadata": {},
   "outputs": [],
   "source": [
    "import geopandas as gp\n",
    "data = gp.GeoDataFrame(data, geometry='geometry')\n",
    "data.plot('Ennustettu_Suurin_puolue numero', color = data['Ennustettu_puoluevari'].to_list(), figsize=(10, 10))"
   ]
  },
  {
   "cell_type": "code",
   "execution_count": null,
   "metadata": {},
   "outputs": [],
   "source": [
    "from matplotlib.colors import LinearSegmentedColormap\n",
    "cmap = LinearSegmentedColormap.from_list('my cmap', ['black', 'black', 'deepskyblue', 'darkgreen', 'blue', 'gold',  'yellow', 'pink',  'red', 'green'])\n",
    "data.plot(column='Suurin_puolue numero',cmap=cmap, figsize=(10, 10))"
   ]
  },
  {
   "cell_type": "code",
   "execution_count": 20,
   "metadata": {},
   "outputs": [],
   "source": [
    "import xgboost as xgb\n",
    "from sklearn.feature_selection import mutual_info_regression\n",
    "from create_prediction import create_prediction\n",
    "\n",
    "puolue = 'VIHR'\n",
    "target = 'Äänet yhteensä lkm ' + puolue\n",
    "\n",
    "ennustettu_puolue = 'Ennustettu_Äänet yhteensä lkm ' + puolue\n",
    "\n",
    "#set values to feature engineering attributes\n",
    "\n",
    "#Check\n",
    "#k_selected need to have correct values, if they are too large, evrything needs to be started again\n",
    "k_selected = 'all'\n",
    "test_size = 0.3\n",
    "#Scalers attributes\n",
    "kbest_score_func = mutual_info_regression \n",
    "\n",
    "metric = 'rmse'\n",
    "Skfold=True\n",
    "Verbose = False\n",
    "testing=True\n",
    "\n",
    "params = {\n",
    "    #Initial xgboost parameters to be automatically tuned\n",
    "    'objective':'reg:squarederror',\n",
    "    'booster' : 'gbtree',\n",
    "    'eval_metric' : metric\n",
    "    } \n",
    "\n"
   ]
  },
  {
   "cell_type": "code",
   "execution_count": 21,
   "metadata": {},
   "outputs": [
    {
     "name": "stdout",
     "output_type": "stream",
     "text": [
      "[0]\ttrain-rmse:241.96802\ttest-rmse:231.15027\n",
      "Multiple eval metrics have been passed: 'test-rmse' will be used for early stopping.\n",
      "\n",
      "Will train until test-rmse hasn't improved in 10 rounds.\n",
      "Stopping. Best iteration:\n",
      "[45]\ttrain-rmse:5.28670\ttest-rmse:106.26389\n",
      "\n",
      "testing\n",
      "Start with xgb.cv params: rmse: 99.16896833333334\n",
      "Best xgb.cv params: max_depth 7, min_child_weight 3, rmse: 93.21670266666668\n",
      "Best xgb.cv params: gamma 0.0, rmse: 93.21670266666668\n",
      "Best xgb.cv params: lambda 1.0, alpha 0.4, rmse: 92.36194366666666\n",
      "Best xgb.cv params: colsample_bytree 1.0, subsample 1.0, rmse: 92.36194366666666\n",
      "Best xgb.cv params: eta 0.4, rmse: 93.71227266666666\n",
      "Best xgb.cv params: scale_pos_weight 0.8, rmse: 93.01036066666667\n",
      "Found hyperparameters with 1 rounds \n",
      "{'objective': 'reg:squarederror', 'booster': 'gbtree', 'eval_metric': 'rmse', 'max_depth': 7, 'min_child_weight': 3, 'gamma': 0.0, 'lambda': 1.0, 'alpha': 0.4, 'colsample_bytree': 1.0, 'subsample': 1.0, 'eta': 0.4, 'scale_pos_weight': 0.8}\n",
      "\n",
      "[0]\ttrain-rmse:213.86791\ttest-rmse:204.30443\n",
      "Multiple eval metrics have been passed: 'test-rmse' will be used for early stopping.\n",
      "\n",
      "Will train until test-rmse hasn't improved in 10 rounds.\n",
      "Stopping. Best iteration:\n",
      "[10]\ttrain-rmse:15.99793\ttest-rmse:97.53068\n",
      "\n",
      "[0]\ttrain-rmse:213.86791\ttest-rmse:204.30443\n",
      "[10]\ttrain-rmse:15.99793\ttest-rmse:97.53068\n"
     ]
    }
   ],
   "source": [
    "puolue = 'VIHR'\n",
    "target = 'Äänet yhteensä lkm ' + puolue\n",
    "ennustettu_puolue = 'Ennustettu_Äänet yhteensä lkm ' + puolue\n",
    "data, features_df, importance_df, model, params, dtest, X_train, y_train, X_test, y_test = create_prediction(data, data, target, kbest_score_func, metric, params, numeric_features, categorical_features,scaled=False, testing=True)\n"
   ]
  },
  {
   "cell_type": "code",
   "execution_count": null,
   "metadata": {},
   "outputs": [],
   "source": [
    "from draw_all import draw_true_vs_predicted\n",
    "draw_true_vs_predicted(dtest, y_test, model, target)"
   ]
  },
  {
   "cell_type": "code",
   "execution_count": 22,
   "metadata": {},
   "outputs": [
    {
     "name": "stdout",
     "output_type": "stream",
     "text": [
      "Lasketut äänet: Aitotulos  354152 Laskennallinen  344923 Ennuste  342246\n",
      "Laskennallisen virhe aitoon tulokseen 0.026059432108247307\n",
      "Ennusteen virhe aitoon tulokseen 0.033619568716257424\n",
      "Ennusteen virhe laskennalliseen tulokseen 0.007762420888140251\n",
      "Ennusteen mukainen ääniosuus 0.11045171140247577\n",
      "Vaalien mukainen ääniosuus 0.11429423426522761\n"
     ]
    }
   ],
   "source": [
    "laskennallinen = data[target].sum()\n",
    "ennuste = data[ennustettu_puolue].sum()\n",
    "aitotulos = selected_vaalidata[selected_vaalidata['Puolueen nimilyhenne suomeksi']==puolue].sum()['Äänet yhteensä lkm']\n",
    "print('Lasketut äänet: Aitotulos ', round(aitotulos), 'Laskennallinen ', round(laskennallinen), 'Ennuste ', round(ennuste))\n",
    "\n",
    "print('Laskennallisen virhe aitoon tulokseen', (aitotulos - laskennallinen)/aitotulos)\n",
    "print('Ennusteen virhe aitoon tulokseen', (aitotulos - ennuste)/aitotulos)\n",
    "print('Ennusteen virhe laskennalliseen tulokseen', (laskennallinen - ennuste)/laskennallinen)\n",
    "aanet=selected.columns[selected.columns.str.startswith('Äänet yhteensä lkm')]\n",
    "print('Ennusteen mukainen ääniosuus', ennuste/selected_vaalidata[selected_vaalidata['Puolueen nimilyhenne suomeksi']=='Äänet']['Äänet yhteensä lkm'].sum())\n",
    "\n",
    "aaniosuus = selected_vaalidata[selected_vaalidata['Puolueen nimilyhenne suomeksi']==puolue].sum()['Äänet yhteensä lkm']/selected_vaalidata[selected_vaalidata['Puolueen nimilyhenne suomeksi']=='Äänet']['Äänet yhteensä lkm'].sum()\n",
    "print('Vaalien mukainen ääniosuus', aaniosuus)"
   ]
  },
  {
   "cell_type": "code",
   "execution_count": null,
   "metadata": {},
   "outputs": [],
   "source": []
  },
  {
   "cell_type": "code",
   "execution_count": null,
   "metadata": {},
   "outputs": [],
   "source": [
    "from draw_all import draw_features\n",
    "show_rows = 10\n",
    "title = 'Features kbest'\n",
    "draw_features(features_df[features_df['Selected']==True].head(show_rows)['Score'], features_df[features_df['Selected']==True].head(show_rows)['Column'], title)"
   ]
  },
  {
   "cell_type": "code",
   "execution_count": null,
   "metadata": {},
   "outputs": [],
   "source": [
    "from shap_tree import shap_tree\n",
    "explainer, shap_values, shap_interaction_values, shap_expected_value  = shap_tree(X_train, y_train, params)"
   ]
  },
  {
   "cell_type": "code",
   "execution_count": null,
   "metadata": {},
   "outputs": [],
   "source": [
    "import shap\n",
    "shap.summary_plot(shap_values, X_train,  max_display=15)"
   ]
  },
  {
   "cell_type": "code",
   "execution_count": null,
   "metadata": {},
   "outputs": [],
   "source": [
    "shap.decision_plot(shap_expected_value, shap_values, feature_names=X_train.columns.to_list())"
   ]
  },
  {
   "cell_type": "code",
   "execution_count": null,
   "metadata": {},
   "outputs": [],
   "source": [
    "from shap_vals import shap_vals\n",
    "k2=shap_vals(X_train, shap_values)\n",
    "k2=k2.tail(25)\n",
    "colorlist = k2['Sign']\n",
    "ax = k2.plot.barh(x='Variable',y='SHAP_abs',color = colorlist, figsize=(5,6),legend=False)\n",
    "ax.set_xlabel(\"SHAP Value (Red = Positive Impact)\")"
   ]
  },
  {
   "cell_type": "code",
   "execution_count": null,
   "metadata": {},
   "outputs": [],
   "source": []
  }
 ],
 "metadata": {
  "kernelspec": {
   "display_name": "Python 3",
   "language": "python",
   "name": "python3"
  },
  "language_info": {
   "codemirror_mode": {
    "name": "ipython",
    "version": 3
   },
   "file_extension": ".py",
   "mimetype": "text/x-python",
   "name": "python",
   "nbconvert_exporter": "python",
   "pygments_lexer": "ipython3",
   "version": "3.6.8"
  }
 },
 "nbformat": 4,
 "nbformat_minor": 4
}
