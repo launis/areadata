{
 "cells": [
  {
   "cell_type": "markdown",
   "metadata": {},
   "source": [
    "# Datojen haku ja esikäsittely"
   ]
  },
  {
   "cell_type": "code",
   "execution_count": null,
   "metadata": {},
   "outputs": [],
   "source": [
    "from set_path import set_path\n",
    "mainpath, path = set_path('areadata')"
   ]
  },
  {
   "cell_type": "code",
   "execution_count": null,
   "metadata": {
    "scrolled": false
   },
   "outputs": [],
   "source": [
    "from read_and_prepare_data import read_and_prepare_data\n",
    "stat, post, kunta_stat, vaalidata = read_and_prepare_data(path)"
   ]
  },
  {
   "cell_type": "code",
   "execution_count": null,
   "metadata": {},
   "outputs": [],
   "source": [
    "from selected_cols import selected_cols\n",
    "numeric_features, categorical_features = selected_cols(largeset=False, parties=True)"
   ]
  },
  {
   "cell_type": "code",
   "execution_count": null,
   "metadata": {},
   "outputs": [],
   "source": [
    "from sklearn.feature_selection import  mutual_info_classif\n",
    "import pandas as pd\n",
    "import numpy as np\n",
    "from draw_and_create_clusters import create_kmeans_clusters \n",
    "\n",
    "from prepare_and_scale_data import prepare_and_scale_data\n",
    "from create_prediction import select_kbest\n",
    "from select_columns_and_clean_data import select_columns_and_clean_data\n",
    "from draw_all import draw_features\n",
    "from create_dbscan_clusters import create_dbscan_clusters\n",
    "\n",
    "\n",
    "%matplotlib inline\n",
    "%config InlineBackend.figure_format = 'retina'\n",
    "pd.options.display.max_colwidth = 100\n",
    "\n",
    "\n",
    "#valitaan käsittelyyn tuleva alue 91 = Helsinki\n",
    "selected = stat[(stat['muncipality_code']==91) | (stat['muncipality_code']==92) | (stat['muncipality_code']==49) | (stat['muncipality_code']==235)].copy()\n",
    "selected_vaalidata = vaalidata[(vaalidata['Kuntanumero']==91) | (vaalidata['Kuntanumero']==92) | (vaalidata['Kuntanumero']==49) | (vaalidata['Kuntanumero']==235) ].copy()\n",
    "post_included = post[(post['muncipality_code']==91) | (post['muncipality_code']==92) | (post['muncipality_code']==49) | (post['muncipality_code']==235)]['postcode'].copy()\n",
    "\n",
    "#valitaan käsittelyyn tuleva alue FI1B1 = Uusimaa\n",
    "selected = stat[stat['area_code']=='FI1B1'].copy()\n",
    "selected_vaalidata = vaalidata[vaalidata['area_code']=='FI1B1'].copy()\n",
    "post_included = post[post['area_code']=='FI1B1'].copy()\n",
    "\n",
    "\n",
    "selected = stat.copy()\n",
    "selected_vaalidata = vaalidata.copy()\n",
    "post_included = post.copy()\n",
    "\n"
   ]
  },
  {
   "cell_type": "code",
   "execution_count": null,
   "metadata": {},
   "outputs": [],
   "source": [
    "from gaussian_model import create_and_draw_best_gaussian_mix\n",
    "\n",
    "data, X, test, gmm_bic, gmm_aic = create_and_draw_best_gaussian_mix(selected, selected, numeric_features=numeric_features, categorical_features=categorical_features, scaled=True, covariance_type = 'full')\n",
    "\n"
   ]
  },
  {
   "cell_type": "code",
   "execution_count": null,
   "metadata": {},
   "outputs": [],
   "source": [
    "from gaussian_model import create_gaussian_model\n",
    "data = create_gaussian_model(data, X, gmm_bic)"
   ]
  },
  {
   "cell_type": "code",
   "execution_count": null,
   "metadata": {},
   "outputs": [],
   "source": [
    "data['cluster'].value_counts()"
   ]
  },
  {
   "cell_type": "code",
   "execution_count": null,
   "metadata": {
    "scrolled": false
   },
   "outputs": [],
   "source": [
    "import geopandas\n",
    "from matplotlib.colors import LinearSegmentedColormap\n",
    "cmap = LinearSegmentedColormap.from_list('my cmap', ['gold', 'green', 'blue', 'pink', 'gold', 'darkgreen', 'lightgreen'])\n",
    "draw = geopandas.GeoDataFrame(pd.DataFrame(data[['cluster', 'geometry']], dtype=object),geometry='geometry')\n",
    "draw.plot(column='cluster', cmap=cmap, legend=True, figsize=(20,20))"
   ]
  },
  {
   "cell_type": "code",
   "execution_count": null,
   "metadata": {},
   "outputs": [],
   "source": [
    "import xgboost as xgb\n",
    "from sklearn.feature_selection import  mutual_info_classif\n",
    "from create_prediction import create_prediction\n",
    "\n",
    "target = 'cluster'\n",
    "\n",
    "ennustettu = \"uusi\" + target\n",
    "\n",
    "#Check\n",
    "#k_selected need to have correct values, if they are too large, evrything needs to be started again\n",
    "k_selected = 'all'\n",
    "\n",
    "test_size = 0.2\n",
    "\n",
    "#Scalers attributes\n",
    "kbest_score_func = mutual_info_classif\n",
    "#set values to model configuration attributes\n",
    "\n",
    "num_class = len(data['cluster'].unique()) #how many classes we are working with\n",
    "\n",
    "metric = 'mlogloss'\n",
    "Skfold=True\n",
    "Verbose = False\n",
    "testing=True\n",
    "\n",
    "params = {\n",
    "    # Parameters that we are going to tune.\n",
    "    'objective':'multi:softprob',\n",
    "    'num_class' : num_class,\n",
    "    'booster' : 'gbtree',\n",
    "    'eval_metric' : metric\n",
    "} \n",
    "\n",
    "data, test, features_df, importance_df, model, params, y_pred, X_train, y_train, X_test, y_test = create_prediction(data, data, target, kbest_score_func, metric, params, numeric_features, categorical_features, scaled=False, testing=testing)\n",
    "data_no_use, X_scale, X = prepare_and_scale_data(data, pd.DataFrame(), numeric_features, categorical_features)\n"
   ]
  },
  {
   "cell_type": "code",
   "execution_count": null,
   "metadata": {},
   "outputs": [],
   "source": [
    "mymodel, explainer, shap_values, shap_interaction_values, shap_expected_value = shap_Xboost(data, target, params, X)"
   ]
  },
  {
   "cell_type": "code",
   "execution_count": null,
   "metadata": {},
   "outputs": [],
   "source": [
    "shap.summary_plot(shap_values, X,  max_display=25)"
   ]
  },
  {
   "cell_type": "code",
   "execution_count": null,
   "metadata": {},
   "outputs": [],
   "source": [
    "import shap\n",
    "test=shap.summary_plot(shap_values, X,  max_display=25)"
   ]
  },
  {
   "cell_type": "code",
   "execution_count": null,
   "metadata": {},
   "outputs": [],
   "source": [
    "pnro = '02160'\n",
    "id_col = 'Postinumero'\n",
    "df, X_rand, clst = shap_proba_individual(explainer, mymodel, data, target, X, id_col, pnro)\n",
    "print_individual(df,pnro, clst)"
   ]
  },
  {
   "cell_type": "code",
   "execution_count": null,
   "metadata": {},
   "outputs": [],
   "source": [
    "print_reason(X_rand, explainer, shap_values, mymodel, clst)"
   ]
  },
  {
   "cell_type": "code",
   "execution_count": null,
   "metadata": {},
   "outputs": [],
   "source": [
    "print_individual_waterfall(data, target, X, shap_expected_value, shap_values, id_col, pnro)"
   ]
  },
  {
   "cell_type": "code",
   "execution_count": null,
   "metadata": {},
   "outputs": [],
   "source": [
    "Party = 0\n",
    "\n",
    "vals = shap_vals(X, \"Party \" + class_names[Party], shap_values[0], n=20)"
   ]
  },
  {
   "cell_type": "code",
   "execution_count": null,
   "metadata": {},
   "outputs": [],
   "source": [
    "new = ['Postinumero','muncipality_name','Asukkaat yhteensä, 2018 (HE)', target]\n",
    "show_df, col_list = print_examples(data, X, new, target, cluster, shap_values, col_num=9, n=6)\n",
    "show_df"
   ]
  },
  {
   "cell_type": "code",
   "execution_count": null,
   "metadata": {},
   "outputs": [],
   "source": [
    "shap.summary_plot(shap_interaction_values[cluster], X)"
   ]
  }
 ],
 "metadata": {
  "kernelspec": {
   "display_name": "Python 3",
   "language": "python",
   "name": "python3"
  },
  "language_info": {
   "codemirror_mode": {
    "name": "ipython",
    "version": 3
   },
   "file_extension": ".py",
   "mimetype": "text/x-python",
   "name": "python",
   "nbconvert_exporter": "python",
   "pygments_lexer": "ipython3",
   "version": "3.6.8"
  }
 },
 "nbformat": 4,
 "nbformat_minor": 4
}
