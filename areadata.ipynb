{
 "cells": [
  {
   "cell_type": "markdown",
   "metadata": {},
   "source": [
    "# Datojen haku ja esikäsittely"
   ]
  },
  {
   "cell_type": "code",
   "execution_count": 1,
   "metadata": {},
   "outputs": [],
   "source": [
    "import os\n",
    "apppath = 'areadata'\n",
    "\n",
    "if os.path.exists(apppath):\n",
    "    if os.getcwd() != apppath:\n",
    "        os.chdir(apppath)\n",
    "path = os.getcwd()\n",
    "path = os.path.join(path, \"data\")\n",
    "\n",
    "if not os.path.exists(path):\n",
    "    os.mkdir(path)\n"
   ]
  },
  {
   "cell_type": "code",
   "execution_count": 2,
   "metadata": {
    "scrolled": false
   },
   "outputs": [
    {
     "name": "stdout",
     "output_type": "stream",
     "text": [
      "read_and_prepare_data  read from start\n",
      "read_post_muncipalities  read from file\n",
      "read_stats_postcode  read from file\n",
      "read_ravintolat_ja_kaupat  read from file\n",
      "read_kiinteisto  read from file\n"
     ]
    },
    {
     "ename": "KeyboardInterrupt",
     "evalue": "",
     "output_type": "error",
     "traceback": [
      "\u001b[1;31m---------------------------------------------------------------------------\u001b[0m",
      "\u001b[1;31mKeyboardInterrupt\u001b[0m                         Traceback (most recent call last)",
      "\u001b[1;32m<ipython-input-2-8fd484088719>\u001b[0m in \u001b[0;36m<module>\u001b[1;34m\u001b[0m\n\u001b[0;32m      1\u001b[0m \u001b[1;32mfrom\u001b[0m \u001b[0mread_and_prepare_data\u001b[0m \u001b[1;32mimport\u001b[0m \u001b[0mread_and_prepare_data\u001b[0m\u001b[1;33m\u001b[0m\u001b[1;33m\u001b[0m\u001b[0m\n\u001b[1;32m----> 2\u001b[1;33m \u001b[0mstat\u001b[0m\u001b[1;33m,\u001b[0m \u001b[0mpost\u001b[0m\u001b[1;33m,\u001b[0m \u001b[0mkunta_stat\u001b[0m\u001b[1;33m,\u001b[0m \u001b[0mvaalidata\u001b[0m \u001b[1;33m=\u001b[0m \u001b[0mread_and_prepare_data\u001b[0m\u001b[1;33m(\u001b[0m\u001b[0mpath\u001b[0m\u001b[1;33m)\u001b[0m\u001b[1;33m\u001b[0m\u001b[1;33m\u001b[0m\u001b[0m\n\u001b[0m",
      "\u001b[1;32m~\\Documents\\GitHub\\areadata\\read_and_prepare_data.py\u001b[0m in \u001b[0;36mread_and_prepare_data\u001b[1;34m(path)\u001b[0m\n\u001b[0;32m     25\u001b[0m     \u001b[0mprint\u001b[0m\u001b[1;33m(\u001b[0m\u001b[0minspect\u001b[0m\u001b[1;33m.\u001b[0m\u001b[0mstack\u001b[0m\u001b[1;33m(\u001b[0m\u001b[1;33m)\u001b[0m\u001b[1;33m[\u001b[0m\u001b[1;36m0\u001b[0m\u001b[1;33m]\u001b[0m\u001b[1;33m[\u001b[0m\u001b[1;36m3\u001b[0m\u001b[1;33m]\u001b[0m\u001b[1;33m,\u001b[0m\u001b[1;34m' read from start'\u001b[0m\u001b[1;33m)\u001b[0m\u001b[1;33m\u001b[0m\u001b[1;33m\u001b[0m\u001b[0m\n\u001b[0;32m     26\u001b[0m \u001b[1;33m\u001b[0m\u001b[0m\n\u001b[1;32m---> 27\u001b[1;33m     \u001b[0mstat\u001b[0m\u001b[1;33m,\u001b[0m \u001b[0mpost\u001b[0m\u001b[1;33m,\u001b[0m \u001b[0mkunta_stat\u001b[0m\u001b[1;33m,\u001b[0m \u001b[0mvaalidata\u001b[0m \u001b[1;33m=\u001b[0m \u001b[0mread_and_merge_all\u001b[0m\u001b[1;33m(\u001b[0m\u001b[0mpath\u001b[0m\u001b[1;33m)\u001b[0m\u001b[1;33m\u001b[0m\u001b[1;33m\u001b[0m\u001b[0m\n\u001b[0m\u001b[0;32m     28\u001b[0m     \u001b[0mstat\u001b[0m\u001b[1;33m=\u001b[0m\u001b[0mstat\u001b[0m\u001b[1;33m[\u001b[0m\u001b[0mstat\u001b[0m\u001b[1;33m[\u001b[0m\u001b[1;34m'Asukkaat yhteensä, 2018 (HE)'\u001b[0m\u001b[1;33m]\u001b[0m\u001b[1;33m!=\u001b[0m\u001b[1;36m0\u001b[0m\u001b[1;33m]\u001b[0m\u001b[1;33m.\u001b[0m\u001b[0mcopy\u001b[0m\u001b[1;33m(\u001b[0m\u001b[1;33m)\u001b[0m\u001b[1;33m\u001b[0m\u001b[1;33m\u001b[0m\u001b[0m\n\u001b[0;32m     29\u001b[0m \u001b[1;33m\u001b[0m\u001b[0m\n",
      "\u001b[1;32m~\\Documents\\GitHub\\areadata\\read_and_merge_all.py\u001b[0m in \u001b[0;36mread_and_merge_all\u001b[1;34m(path)\u001b[0m\n\u001b[0;32m     88\u001b[0m \u001b[1;33m\u001b[0m\u001b[0m\n\u001b[0;32m     89\u001b[0m     \u001b[0murl_kiinteisto\u001b[0m \u001b[1;33m=\u001b[0m \u001b[1;34m\"https://www.avoindata.fi/data/dataset/cf9208dc-63a9-44a2-9312-bbd2c3952596/resource/ae13f168-e835-4412-8661-355ea6c4c468/download/suomi_osoitteet_2020-05-15.7z\"\u001b[0m\u001b[1;33m\u001b[0m\u001b[1;33m\u001b[0m\u001b[0m\n\u001b[1;32m---> 90\u001b[1;33m     \u001b[0mkiinteisto\u001b[0m \u001b[1;33m=\u001b[0m \u001b[0mread_kiinteisto\u001b[0m\u001b[1;33m(\u001b[0m\u001b[0mpath\u001b[0m\u001b[1;33m,\u001b[0m \u001b[0murl_kiinteisto\u001b[0m\u001b[1;33m)\u001b[0m\u001b[1;33m\u001b[0m\u001b[1;33m\u001b[0m\u001b[0m\n\u001b[0m\u001b[0;32m     91\u001b[0m \u001b[1;33m\u001b[0m\u001b[0m\n\u001b[0;32m     92\u001b[0m \u001b[1;33m\u001b[0m\u001b[0m\n",
      "\u001b[1;32m~\\Documents\\GitHub\\areadata\\read_kiinteisto.py\u001b[0m in \u001b[0;36mread_kiinteisto\u001b[1;34m(path, url_kiinteisto)\u001b[0m\n\u001b[0;32m     85\u001b[0m         \u001b[0mprint\u001b[0m\u001b[1;33m(\u001b[0m\u001b[0minspect\u001b[0m\u001b[1;33m.\u001b[0m\u001b[0mstack\u001b[0m\u001b[1;33m(\u001b[0m\u001b[1;33m)\u001b[0m\u001b[1;33m[\u001b[0m\u001b[1;36m0\u001b[0m\u001b[1;33m]\u001b[0m\u001b[1;33m[\u001b[0m\u001b[1;36m3\u001b[0m\u001b[1;33m]\u001b[0m\u001b[1;33m,\u001b[0m\u001b[1;34m' read from file'\u001b[0m\u001b[1;33m)\u001b[0m\u001b[1;33m\u001b[0m\u001b[1;33m\u001b[0m\u001b[0m\n\u001b[0;32m     86\u001b[0m         \u001b[0mkiinteisto_data\u001b[0m \u001b[1;33m=\u001b[0m \u001b[0mpd\u001b[0m\u001b[1;33m.\u001b[0m\u001b[0mread_csv\u001b[0m\u001b[1;33m(\u001b[0m\u001b[0mfilename_kiinteisto\u001b[0m\u001b[1;33m,\u001b[0m \u001b[0mencoding\u001b[0m\u001b[1;33m=\u001b[0m\u001b[1;34m\"ISO-8859-1\"\u001b[0m\u001b[1;33m,\u001b[0m \u001b[0mlow_memory\u001b[0m\u001b[1;33m=\u001b[0m\u001b[1;32mFalse\u001b[0m\u001b[1;33m)\u001b[0m\u001b[1;33m\u001b[0m\u001b[1;33m\u001b[0m\u001b[0m\n\u001b[1;32m---> 87\u001b[1;33m         \u001b[0mkiinteisto_data\u001b[0m\u001b[1;33m.\u001b[0m\u001b[0mloc\u001b[0m\u001b[1;33m[\u001b[0m\u001b[1;33m:\u001b[0m\u001b[1;33m,\u001b[0m\u001b[1;34m'Postinumero'\u001b[0m\u001b[1;33m]\u001b[0m \u001b[1;33m=\u001b[0m \u001b[0mkiinteisto_data\u001b[0m\u001b[1;33m[\u001b[0m\u001b[1;34m'Postinumero'\u001b[0m\u001b[1;33m]\u001b[0m\u001b[1;33m.\u001b[0m\u001b[0mapply\u001b[0m\u001b[1;33m(\u001b[0m\u001b[0madd_zeros\u001b[0m\u001b[1;33m)\u001b[0m\u001b[1;33m\u001b[0m\u001b[1;33m\u001b[0m\u001b[0m\n\u001b[0m\u001b[0;32m     88\u001b[0m \u001b[1;33m\u001b[0m\u001b[0m\n\u001b[0;32m     89\u001b[0m     \u001b[1;32melse\u001b[0m\u001b[1;33m:\u001b[0m\u001b[1;33m\u001b[0m\u001b[1;33m\u001b[0m\u001b[0m\n",
      "\u001b[1;32m~\\Anaconda3\\lib\\site-packages\\pandas\\core\\indexing.py\u001b[0m in \u001b[0;36m__setitem__\u001b[1;34m(self, key, value)\u001b[0m\n\u001b[0;32m    669\u001b[0m             \u001b[0mkey\u001b[0m \u001b[1;33m=\u001b[0m \u001b[0mcom\u001b[0m\u001b[1;33m.\u001b[0m\u001b[0mapply_if_callable\u001b[0m\u001b[1;33m(\u001b[0m\u001b[0mkey\u001b[0m\u001b[1;33m,\u001b[0m \u001b[0mself\u001b[0m\u001b[1;33m.\u001b[0m\u001b[0mobj\u001b[0m\u001b[1;33m)\u001b[0m\u001b[1;33m\u001b[0m\u001b[1;33m\u001b[0m\u001b[0m\n\u001b[0;32m    670\u001b[0m         \u001b[0mindexer\u001b[0m \u001b[1;33m=\u001b[0m \u001b[0mself\u001b[0m\u001b[1;33m.\u001b[0m\u001b[0m_get_setitem_indexer\u001b[0m\u001b[1;33m(\u001b[0m\u001b[0mkey\u001b[0m\u001b[1;33m)\u001b[0m\u001b[1;33m\u001b[0m\u001b[1;33m\u001b[0m\u001b[0m\n\u001b[1;32m--> 671\u001b[1;33m         \u001b[0mself\u001b[0m\u001b[1;33m.\u001b[0m\u001b[0m_setitem_with_indexer\u001b[0m\u001b[1;33m(\u001b[0m\u001b[0mindexer\u001b[0m\u001b[1;33m,\u001b[0m \u001b[0mvalue\u001b[0m\u001b[1;33m)\u001b[0m\u001b[1;33m\u001b[0m\u001b[1;33m\u001b[0m\u001b[0m\n\u001b[0m\u001b[0;32m    672\u001b[0m \u001b[1;33m\u001b[0m\u001b[0m\n\u001b[0;32m    673\u001b[0m     \u001b[1;32mdef\u001b[0m \u001b[0m_validate_key\u001b[0m\u001b[1;33m(\u001b[0m\u001b[0mself\u001b[0m\u001b[1;33m,\u001b[0m \u001b[0mkey\u001b[0m\u001b[1;33m,\u001b[0m \u001b[0maxis\u001b[0m\u001b[1;33m:\u001b[0m \u001b[0mint\u001b[0m\u001b[1;33m)\u001b[0m\u001b[1;33m:\u001b[0m\u001b[1;33m\u001b[0m\u001b[1;33m\u001b[0m\u001b[0m\n",
      "\u001b[1;32m~\\Anaconda3\\lib\\site-packages\\pandas\\core\\indexing.py\u001b[0m in \u001b[0;36m_setitem_with_indexer\u001b[1;34m(self, indexer, value)\u001b[0m\n\u001b[0;32m   1010\u001b[0m                     \u001b[0mlabels\u001b[0m\u001b[1;33m,\u001b[0m \u001b[0mvalue\u001b[0m\u001b[1;33m,\u001b[0m \u001b[0mplane_indexer\u001b[0m\u001b[1;33m,\u001b[0m \u001b[0mlplane_indexer\u001b[0m\u001b[1;33m,\u001b[0m \u001b[0mself\u001b[0m\u001b[1;33m.\u001b[0m\u001b[0mobj\u001b[0m\u001b[1;33m\u001b[0m\u001b[1;33m\u001b[0m\u001b[0m\n\u001b[0;32m   1011\u001b[0m                 ):\n\u001b[1;32m-> 1012\u001b[1;33m                     \u001b[0msetter\u001b[0m\u001b[1;33m(\u001b[0m\u001b[0mlabels\u001b[0m\u001b[1;33m[\u001b[0m\u001b[1;36m0\u001b[0m\u001b[1;33m]\u001b[0m\u001b[1;33m,\u001b[0m \u001b[0mvalue\u001b[0m\u001b[1;33m)\u001b[0m\u001b[1;33m\u001b[0m\u001b[1;33m\u001b[0m\u001b[0m\n\u001b[0m\u001b[0;32m   1013\u001b[0m \u001b[1;33m\u001b[0m\u001b[0m\n\u001b[0;32m   1014\u001b[0m                 \u001b[1;31m# per label values\u001b[0m\u001b[1;33m\u001b[0m\u001b[1;33m\u001b[0m\u001b[1;33m\u001b[0m\u001b[0m\n",
      "\u001b[1;32m~\\Anaconda3\\lib\\site-packages\\pandas\\core\\indexing.py\u001b[0m in \u001b[0;36msetter\u001b[1;34m(item, v)\u001b[0m\n\u001b[0;32m    964\u001b[0m \u001b[1;33m\u001b[0m\u001b[0m\n\u001b[0;32m    965\u001b[0m                 \u001b[1;31m# reset the sliced object if unique\u001b[0m\u001b[1;33m\u001b[0m\u001b[1;33m\u001b[0m\u001b[1;33m\u001b[0m\u001b[0m\n\u001b[1;32m--> 966\u001b[1;33m                 \u001b[0mself\u001b[0m\u001b[1;33m.\u001b[0m\u001b[0mobj\u001b[0m\u001b[1;33m[\u001b[0m\u001b[0mitem\u001b[0m\u001b[1;33m]\u001b[0m \u001b[1;33m=\u001b[0m \u001b[0ms\u001b[0m\u001b[1;33m\u001b[0m\u001b[1;33m\u001b[0m\u001b[0m\n\u001b[0m\u001b[0;32m    967\u001b[0m \u001b[1;33m\u001b[0m\u001b[0m\n\u001b[0;32m    968\u001b[0m             \u001b[1;31m# we need an iterable, with a ndim of at least 1\u001b[0m\u001b[1;33m\u001b[0m\u001b[1;33m\u001b[0m\u001b[1;33m\u001b[0m\u001b[0m\n",
      "\u001b[1;32m~\\Anaconda3\\lib\\site-packages\\pandas\\core\\frame.py\u001b[0m in \u001b[0;36m__setitem__\u001b[1;34m(self, key, value)\u001b[0m\n\u001b[0;32m   2936\u001b[0m         \u001b[1;32melse\u001b[0m\u001b[1;33m:\u001b[0m\u001b[1;33m\u001b[0m\u001b[1;33m\u001b[0m\u001b[0m\n\u001b[0;32m   2937\u001b[0m             \u001b[1;31m# set column\u001b[0m\u001b[1;33m\u001b[0m\u001b[1;33m\u001b[0m\u001b[1;33m\u001b[0m\u001b[0m\n\u001b[1;32m-> 2938\u001b[1;33m             \u001b[0mself\u001b[0m\u001b[1;33m.\u001b[0m\u001b[0m_set_item\u001b[0m\u001b[1;33m(\u001b[0m\u001b[0mkey\u001b[0m\u001b[1;33m,\u001b[0m \u001b[0mvalue\u001b[0m\u001b[1;33m)\u001b[0m\u001b[1;33m\u001b[0m\u001b[1;33m\u001b[0m\u001b[0m\n\u001b[0m\u001b[0;32m   2939\u001b[0m \u001b[1;33m\u001b[0m\u001b[0m\n\u001b[0;32m   2940\u001b[0m     \u001b[1;32mdef\u001b[0m \u001b[0m_setitem_slice\u001b[0m\u001b[1;33m(\u001b[0m\u001b[0mself\u001b[0m\u001b[1;33m,\u001b[0m \u001b[0mkey\u001b[0m\u001b[1;33m,\u001b[0m \u001b[0mvalue\u001b[0m\u001b[1;33m)\u001b[0m\u001b[1;33m:\u001b[0m\u001b[1;33m\u001b[0m\u001b[1;33m\u001b[0m\u001b[0m\n",
      "\u001b[1;32m~\\Anaconda3\\lib\\site-packages\\pandas\\core\\frame.py\u001b[0m in \u001b[0;36m_set_item\u001b[1;34m(self, key, value)\u001b[0m\n\u001b[0;32m   2999\u001b[0m         \u001b[0mself\u001b[0m\u001b[1;33m.\u001b[0m\u001b[0m_ensure_valid_index\u001b[0m\u001b[1;33m(\u001b[0m\u001b[0mvalue\u001b[0m\u001b[1;33m)\u001b[0m\u001b[1;33m\u001b[0m\u001b[1;33m\u001b[0m\u001b[0m\n\u001b[0;32m   3000\u001b[0m         \u001b[0mvalue\u001b[0m \u001b[1;33m=\u001b[0m \u001b[0mself\u001b[0m\u001b[1;33m.\u001b[0m\u001b[0m_sanitize_column\u001b[0m\u001b[1;33m(\u001b[0m\u001b[0mkey\u001b[0m\u001b[1;33m,\u001b[0m \u001b[0mvalue\u001b[0m\u001b[1;33m)\u001b[0m\u001b[1;33m\u001b[0m\u001b[1;33m\u001b[0m\u001b[0m\n\u001b[1;32m-> 3001\u001b[1;33m         \u001b[0mNDFrame\u001b[0m\u001b[1;33m.\u001b[0m\u001b[0m_set_item\u001b[0m\u001b[1;33m(\u001b[0m\u001b[0mself\u001b[0m\u001b[1;33m,\u001b[0m \u001b[0mkey\u001b[0m\u001b[1;33m,\u001b[0m \u001b[0mvalue\u001b[0m\u001b[1;33m)\u001b[0m\u001b[1;33m\u001b[0m\u001b[1;33m\u001b[0m\u001b[0m\n\u001b[0m\u001b[0;32m   3002\u001b[0m \u001b[1;33m\u001b[0m\u001b[0m\n\u001b[0;32m   3003\u001b[0m         \u001b[1;31m# check if we are modifying a copy\u001b[0m\u001b[1;33m\u001b[0m\u001b[1;33m\u001b[0m\u001b[1;33m\u001b[0m\u001b[0m\n",
      "\u001b[1;32m~\\Anaconda3\\lib\\site-packages\\pandas\\core\\generic.py\u001b[0m in \u001b[0;36m_set_item\u001b[1;34m(self, key, value)\u001b[0m\n\u001b[0;32m   3622\u001b[0m \u001b[1;33m\u001b[0m\u001b[0m\n\u001b[0;32m   3623\u001b[0m     \u001b[1;32mdef\u001b[0m \u001b[0m_set_item\u001b[0m\u001b[1;33m(\u001b[0m\u001b[0mself\u001b[0m\u001b[1;33m,\u001b[0m \u001b[0mkey\u001b[0m\u001b[1;33m,\u001b[0m \u001b[0mvalue\u001b[0m\u001b[1;33m)\u001b[0m \u001b[1;33m->\u001b[0m \u001b[1;32mNone\u001b[0m\u001b[1;33m:\u001b[0m\u001b[1;33m\u001b[0m\u001b[1;33m\u001b[0m\u001b[0m\n\u001b[1;32m-> 3624\u001b[1;33m         \u001b[0mself\u001b[0m\u001b[1;33m.\u001b[0m\u001b[0m_data\u001b[0m\u001b[1;33m.\u001b[0m\u001b[0mset\u001b[0m\u001b[1;33m(\u001b[0m\u001b[0mkey\u001b[0m\u001b[1;33m,\u001b[0m \u001b[0mvalue\u001b[0m\u001b[1;33m)\u001b[0m\u001b[1;33m\u001b[0m\u001b[1;33m\u001b[0m\u001b[0m\n\u001b[0m\u001b[0;32m   3625\u001b[0m         \u001b[0mself\u001b[0m\u001b[1;33m.\u001b[0m\u001b[0m_clear_item_cache\u001b[0m\u001b[1;33m(\u001b[0m\u001b[1;33m)\u001b[0m\u001b[1;33m\u001b[0m\u001b[1;33m\u001b[0m\u001b[0m\n\u001b[0;32m   3626\u001b[0m \u001b[1;33m\u001b[0m\u001b[0m\n",
      "\u001b[1;32m~\\Anaconda3\\lib\\site-packages\\pandas\\core\\internals\\managers.py\u001b[0m in \u001b[0;36mset\u001b[1;34m(self, item, value)\u001b[0m\n\u001b[0;32m   1098\u001b[0m                 \u001b[1;32melse\u001b[0m\u001b[1;33m:\u001b[0m\u001b[1;33m\u001b[0m\u001b[1;33m\u001b[0m\u001b[0m\n\u001b[0;32m   1099\u001b[0m                     \u001b[0mself\u001b[0m\u001b[1;33m.\u001b[0m\u001b[0m_blklocs\u001b[0m\u001b[1;33m[\u001b[0m\u001b[0mblk\u001b[0m\u001b[1;33m.\u001b[0m\u001b[0mmgr_locs\u001b[0m\u001b[1;33m.\u001b[0m\u001b[0mindexer\u001b[0m\u001b[1;33m]\u001b[0m \u001b[1;33m=\u001b[0m \u001b[1;33m-\u001b[0m\u001b[1;36m1\u001b[0m\u001b[1;33m\u001b[0m\u001b[1;33m\u001b[0m\u001b[0m\n\u001b[1;32m-> 1100\u001b[1;33m                     \u001b[0mblk\u001b[0m\u001b[1;33m.\u001b[0m\u001b[0mdelete\u001b[0m\u001b[1;33m(\u001b[0m\u001b[0mblk_locs\u001b[0m\u001b[1;33m)\u001b[0m\u001b[1;33m\u001b[0m\u001b[1;33m\u001b[0m\u001b[0m\n\u001b[0m\u001b[0;32m   1101\u001b[0m                     \u001b[0mself\u001b[0m\u001b[1;33m.\u001b[0m\u001b[0m_blklocs\u001b[0m\u001b[1;33m[\u001b[0m\u001b[0mblk\u001b[0m\u001b[1;33m.\u001b[0m\u001b[0mmgr_locs\u001b[0m\u001b[1;33m.\u001b[0m\u001b[0mindexer\u001b[0m\u001b[1;33m]\u001b[0m \u001b[1;33m=\u001b[0m \u001b[0mnp\u001b[0m\u001b[1;33m.\u001b[0m\u001b[0marange\u001b[0m\u001b[1;33m(\u001b[0m\u001b[0mlen\u001b[0m\u001b[1;33m(\u001b[0m\u001b[0mblk\u001b[0m\u001b[1;33m)\u001b[0m\u001b[1;33m)\u001b[0m\u001b[1;33m\u001b[0m\u001b[1;33m\u001b[0m\u001b[0m\n\u001b[0;32m   1102\u001b[0m \u001b[1;33m\u001b[0m\u001b[0m\n",
      "\u001b[1;32m~\\Anaconda3\\lib\\site-packages\\pandas\\core\\internals\\blocks.py\u001b[0m in \u001b[0;36mdelete\u001b[1;34m(self, loc)\u001b[0m\n\u001b[0;32m    380\u001b[0m         \u001b[0mDelete\u001b[0m \u001b[0mgiven\u001b[0m \u001b[0mloc\u001b[0m\u001b[1;33m(\u001b[0m\u001b[1;33m-\u001b[0m\u001b[0ms\u001b[0m\u001b[1;33m)\u001b[0m \u001b[1;32mfrom\u001b[0m \u001b[0mblock\u001b[0m \u001b[1;32min\u001b[0m\u001b[1;33m-\u001b[0m\u001b[0mplace\u001b[0m\u001b[1;33m.\u001b[0m\u001b[1;33m\u001b[0m\u001b[1;33m\u001b[0m\u001b[0m\n\u001b[0;32m    381\u001b[0m         \"\"\"\n\u001b[1;32m--> 382\u001b[1;33m         \u001b[0mself\u001b[0m\u001b[1;33m.\u001b[0m\u001b[0mvalues\u001b[0m \u001b[1;33m=\u001b[0m \u001b[0mnp\u001b[0m\u001b[1;33m.\u001b[0m\u001b[0mdelete\u001b[0m\u001b[1;33m(\u001b[0m\u001b[0mself\u001b[0m\u001b[1;33m.\u001b[0m\u001b[0mvalues\u001b[0m\u001b[1;33m,\u001b[0m \u001b[0mloc\u001b[0m\u001b[1;33m,\u001b[0m \u001b[1;36m0\u001b[0m\u001b[1;33m)\u001b[0m\u001b[1;33m\u001b[0m\u001b[1;33m\u001b[0m\u001b[0m\n\u001b[0m\u001b[0;32m    383\u001b[0m         \u001b[0mself\u001b[0m\u001b[1;33m.\u001b[0m\u001b[0mmgr_locs\u001b[0m \u001b[1;33m=\u001b[0m \u001b[0mself\u001b[0m\u001b[1;33m.\u001b[0m\u001b[0mmgr_locs\u001b[0m\u001b[1;33m.\u001b[0m\u001b[0mdelete\u001b[0m\u001b[1;33m(\u001b[0m\u001b[0mloc\u001b[0m\u001b[1;33m)\u001b[0m\u001b[1;33m\u001b[0m\u001b[1;33m\u001b[0m\u001b[0m\n\u001b[0;32m    384\u001b[0m \u001b[1;33m\u001b[0m\u001b[0m\n",
      "\u001b[1;31mKeyboardInterrupt\u001b[0m: "
     ]
    }
   ],
   "source": [
    "from read_and_prepare_data import read_and_prepare_data\n",
    "stat, post, kunta_stat, vaalidata = read_and_prepare_data(path)"
   ]
  },
  {
   "cell_type": "markdown",
   "metadata": {},
   "source": [
    "col_selected = ['Miehet, 2018 (HE) osuudesta Asukkaat yhteensä, 2018 (HE)',\n",
    " 'Naiset, 2018 (HE) osuudesta Asukkaat yhteensä, 2018 (HE)',\n",
    " 'Perusasteen suorittaneet, 2018 (KO) osuudesta Asukkaat yhteensä, 2018 (HE)',\n",
    " 'A Maatalous, metsätalous ja kalatalous, 2017 (TP) osuudesta Asukkaat yhteensä, 2018 (HE)',\n",
    " 'Alemman korkeakoulututkinnon suorittaneet, 2018 (KO) osuudesta Asukkaat yhteensä, 2018 (HE)',\n",
    " 'Alkutuotannon työpaikat, 2017 (TP) osuudesta Asukkaat yhteensä, 2018 (HE)',\n",
    " 'Ammatillisen tutkinnon suorittaneet, 2018 (KO) osuudesta Asukkaat yhteensä, 2018 (HE)',\n",
    " 'B Kaivostoiminta ja louhinta, 2017 (TP) osuudesta Asukkaat yhteensä, 2018 (HE)',\n",
    " 'C Teollisuus, 2017 (TP) osuudesta Asukkaat yhteensä, 2018 (HE)',\n",
    " 'D Sähkö-, kaasu- ja lämpöhuolto, jäähdytysliiketoiminta, 2017 (TP) osuudesta Asukkaat yhteensä, 2018 (HE)',\n",
    " 'E Vesihuolto, viemäri- ja jätevesihuolto ja muu ympäristön puhtaanapito, 2017 (TP) osuudesta Asukkaat yhteensä, 2018 (HE)',\n",
    " 'Eläkeläiset, 2017 (PT) osuudesta Asukkaat yhteensä, 2018 (HE)',\n",
    " 'F Rakentaminen, 2017 (TP) osuudesta Asukkaat yhteensä, 2018 (HE)',\n",
    " 'G Tukku- ja vähittäiskauppa; moottoriajoneuvojen ja moottoripyörien korjaus, 2017 (TP) osuudesta Asukkaat yhteensä, 2018 (HE)',\n",
    " 'H Kuljetus ja varastointi, 2017 (TP) osuudesta Asukkaat yhteensä, 2018 (HE)',\n",
    " 'I Majoitus- ja ravitsemistoiminta, 2017 (TP) osuudesta Asukkaat yhteensä, 2018 (HE)',\n",
    " 'J Informaatio ja viestintä, 2017 (TP) osuudesta Asukkaat yhteensä, 2018 (HE)',\n",
    " 'Jalostuksen työpaikat, 2017 (TP) osuudesta Asukkaat yhteensä, 2018 (HE)',\n",
    " 'K Rahoitus- ja vakuutustoiminta, 2017 (TP) osuudesta Asukkaat yhteensä, 2018 (HE)',\n",
    " 'Kerrostaloasunnot, 2018 (RA) osuudesta Asukkaat yhteensä, 2018 (HE)',\n",
    " 'L Kiinteistöalan toiminta, 2017 (TP) osuudesta Asukkaat yhteensä, 2018 (HE)',\n",
    " 'Opiskelijat, 2017 (PT) osuudesta Asukkaat yhteensä, 2018 (HE)',\n",
    " 'Palveluiden työpaikat, 2017 (TP) osuudesta Asukkaat yhteensä, 2018 (HE)',\n",
    " 'Q Terveys- ja sosiaalipalvelut, 2017 (TP) osuudesta Asukkaat yhteensä, 2018 (HE)',\n",
    " 'R Taiteet, viihde ja virkistys, 2017 (TP) osuudesta Asukkaat yhteensä, 2018 (HE)',\n",
    " 'S Muu palvelutoiminta, 2017 (TP) osuudesta Asukkaat yhteensä, 2018 (HE)',\n",
    " 'T Kotitalouksien toiminta työnantajina; kotitalouksien eriyttämätön toiminta tavaroiden ja palveluiden tuottamiseksi omaan käyttöön, 2017 (TP) osuudesta Asukkaat yhteensä, 2018 (HE)',\n",
    " 'Työttömät, 2017 (PT) osuudesta Asukkaat yhteensä, 2018 (HE)',\n",
    " 'Ylemmän korkeakoulututkinnon suorittaneet, 2018 (KO) osuudesta Asukkaat yhteensä, 2018 (HE)',\n",
    " 'Ylimpään tuloluokkaan kuuluvat taloudet, 2017 (TR) osuudesta Asukkaat yhteensä, 2018 (HE)',\n",
    " 'Ylioppilastutkinnon suorittaneet, 2018 (KO) osuudesta Asukkaat yhteensä, 2018 (HE)',\n",
    " 'Nuorten yksinasuvien taloudet, 2018 (TE) osuudesta Taloudet yhteensä, 2018 (TE)',\n",
    " 'Lapsettomat nuorten parien taloudet, 2018 (TE) osuudesta Taloudet yhteensä, 2018 (TE)',\n",
    " 'Lapsitaloudet, 2018 (TE) osuudesta Taloudet yhteensä, 2018 (TE)',\n",
    " 'Aikuisten taloudet, 2018 (TE) osuudesta Taloudet yhteensä, 2018 (TE)',\n",
    " 'Eläkeläisten taloudet, 2018 (TE) osuudesta Taloudet yhteensä, 2018 (TE)',\n",
    " 'Pientaloasunnot, 2018 (RA) osuudesta Taloudet yhteensä, 2018 (TE)',\n",
    " 'Kerrostaloasunnot, 2018 (RA) osuudesta Taloudet yhteensä, 2018 (TE)',\n",
    " 'Omistusasunnoissa asuvat taloudet, 2018 (TE) osuudesta Taloudet yhteensä, 2018 (TE)',\n",
    " 'Vuokra-asunnoissa asuvat taloudet, 2018 (TE) osuudesta Taloudet yhteensä, 2018 (TE)',\n",
    " 'Alimpaan tuloluokkaan kuuluvat taloudet, 2017 (TR) osuudesta Taloudet yhteensä, 2018 (TE)',\n",
    " 'Keskimmäiseen tuloluokkaan kuuluvat taloudet, 2017 (TR) osuudesta Taloudet yhteensä, 2018 (TE)',\n",
    " 'Ylimpään tuloluokkaan kuuluvat taloudet, 2017 (TR) osuudesta Taloudet yhteensä, 2018 (TE)',\n",
    " 'Ravintolat osuudesta Taloudet yhteensä, 2018 (TE)',\n",
    " 'Myymälät osuudesta Taloudet yhteensä, 2018 (TE)',\n",
    " 'Postinumeroalueen pinta-ala osuus area_code',\n",
    " 'Asuntojen keskipinta-ala, 2018 (RA) osuus total',\n",
    " 'Keskitulot osuus total',\n",
    " 'Keskiverot osuus total',\n",
    " 'Vähenykset suhteessa tulot yhteensä osuus total',\n",
    " 'Pääomatulojen osuus osuus total',\n",
    " 'Verojen osuus osuus total',\n",
    " 'Asuntolainan korkomenot vs tulot yhteensä osuus total',\n",
    " '1.1 Tuloverot yhteensä Yhteensä Saajien lukumäärä osuudesta Asukkaat yhteensä, 2018 (HE)',\n",
    " '1.1 Tuloverot yhteensä Yhteensä Summa, euroa osuudesta Asukkaat yhteensä, 2018 (HE)',                \n",
    " '1.1.3 Kirkollisvero Yhteensä Saajien lukumäärä osuudesta Asukkaat yhteensä, 2018 (HE)',\n",
    " '1.1.3 Kirkollisvero Yhteensä Summa, euroa osuudesta Asukkaat yhteensä, 2018 (HE)',\n",
    " '11. Yrittäjätulot yhteensä Yhteensä Saajien lukumäärä osuudesta Asukkaat yhteensä, 2018 (HE)',\n",
    " '11. Yrittäjätulot yhteensä Yhteensä Summa, euroa osuudesta Asukkaat yhteensä, 2018 (HE)',\n",
    " '11.5.1.1 Asuntolainan korkomenot (TVL 58 § 2 mom.) Yhteensä Saajien lukumäärä osuudesta Asukkaat yhteensä, 2018 (HE)',\n",
    " '11.5.1.1 Asuntolainan korkomenot (TVL 58 § 2 mom.) Yhteensä Summa, euroa osuudesta Asukkaat yhteensä, 2018 (HE)', \n",
    " '14.12 Opintolainavähennys Yhteensä Saajien lukumäärä osuudesta Asukkaat yhteensä, 2018 (HE)',\n",
    " '14.12 Opintolainavähennys Yhteensä Summa, euroa osuudesta Asukkaat yhteensä, 2018 (HE)',\n",
    " '14.7 Kotitalousvähennys Yhteensä Saajien lukumäärä osuudesta Asukkaat yhteensä, 2018 (HE)',\n",
    " '14.7 Kotitalousvähennys Yhteensä Summa, euroa osuudesta Asukkaat yhteensä, 2018 (HE)',\n",
    " '2. Tulot yhteensä Yhteensä Saajien lukumäärä osuudesta Asukkaat yhteensä, 2018 (HE)',\n",
    " '2. Tulot yhteensä Yhteensä Summa, euroa osuudesta Asukkaat yhteensä, 2018 (HE)',\n",
    " '4. Ansiotuloista tehtävät luonnolliset vähennykset eli tulonhankkimiskulut yhteensä Yhteensä Saajien lukumäärä osuudesta Asukkaat yhteensä, 2018 (HE)', \n",
    " '4. Ansiotuloista tehtävät luonnolliset vähennykset eli tulonhankkimiskulut yhteensä Yhteensä Summa, euroa osuudesta Asukkaat yhteensä, 2018 (HE)', '4.1 Palkkatulot yhteensä Yhteensä Saajien lukumäärä osuudesta Asukkaat yhteensä, 2018 (HE)', '4.1 Palkkatulot yhteensä Yhteensä Summa, euroa osuudesta Asukkaat yhteensä, 2018 (HE)', '4.2 Työmatkakulujen perusteella palkkatulosta vähennettävä määrä (TVL 93 §) Yhteensä Saajien lukumäärä osuudesta Asukkaat yhteensä, 2018 (HE)', '4.2 Työmatkakulujen perusteella palkkatulosta vähennettävä määrä (TVL 93 §) Yhteensä Summa, euroa osuudesta Asukkaat yhteensä, 2018 (HE)', '4.2.10 Muut veronalaiset sosiaalietuudet Yhteensä Saajien lukumäärä osuudesta Asukkaat yhteensä, 2018 (HE)', '4.2.10 Muut veronalaiset sosiaalietuudet Yhteensä Summa, euroa osuudesta Asukkaat yhteensä, 2018 (HE)', '4.2.2 Työttömyysetuudet Yhteensä Saajien lukumäärä osuudesta Asukkaat yhteensä, 2018 (HE)', '4.2.2 Työttömyysetuudet Yhteensä Summa, euroa osuudesta Asukkaat yhteensä, 2018 (HE)', '4.2.8 Lapsen kotihoidon tuki Yhteensä Saajien lukumäärä osuudesta Asukkaat yhteensä, 2018 (HE)', '4.2.8 Lapsen kotihoidon tuki Yhteensä Summa, euroa osuudesta Asukkaat yhteensä, 2018 (HE)', '5. Pääomatulot yhteensä Yhteensä Saajien lukumäärä osuudesta Asukkaat yhteensä, 2018 (HE)', '5. Pääomatulot yhteensä Yhteensä Summa, euroa osuudesta Asukkaat yhteensä, 2018 (HE)', '5.1.3 Vuokratulo Yhteensä Saajien lukumäärä osuudesta Asukkaat yhteensä, 2018 (HE)', '5.1.3 Vuokratulo Yhteensä Summa, euroa osuudesta Asukkaat yhteensä, 2018 (HE)', \n",
    " '6. Osingot brutto Yhteensä Saajien lukumäärä osuudesta Asukkaat yhteensä, 2018 (HE)',\n",
    "'6. Osingot brutto Yhteensä Summa, euroa osuudesta Asukkaat yhteensä, 2018 (HE)']"
   ]
  },
  {
   "cell_type": "code",
   "execution_count": null,
   "metadata": {},
   "outputs": [],
   "source": [
    "col_selected = [\n",
    " 'Postinumeroalueen pinta-ala osuus area_code',\n",
    " 'language_code',\n",
    " 'Asuntojen keskipinta-ala, 2018 (RA) osuus total',\n",
    " 'Keskitulot',\n",
    " 'Keskiverot',\n",
    " 'Verojen osuus',\n",
    " 'Miehet, 2018 (HE) osuudesta Asukkaat yhteensä, 2018 (HE)',\n",
    " 'Naiset, 2018 (HE) osuudesta Asukkaat yhteensä, 2018 (HE)',\n",
    " 'Perusasteen suorittaneet, 2018 (KO) osuudesta Asukkaat yhteensä, 2018 (HE)',\n",
    " 'A Maatalous, metsätalous ja kalatalous, 2017 (TP) osuudesta Asukkaat yhteensä, 2018 (HE)',\n",
    " 'Alemman korkeakoulututkinnon suorittaneet, 2018 (KO) osuudesta Asukkaat yhteensä, 2018 (HE)',\n",
    " 'Alkutuotannon työpaikat, 2017 (TP) osuudesta Asukkaat yhteensä, 2018 (HE)',\n",
    " 'Ammatillisen tutkinnon suorittaneet, 2018 (KO) osuudesta Asukkaat yhteensä, 2018 (HE)',\n",
    " 'B Kaivostoiminta ja louhinta, 2017 (TP) osuudesta Asukkaat yhteensä, 2018 (HE)',\n",
    " 'C Teollisuus, 2017 (TP) osuudesta Asukkaat yhteensä, 2018 (HE)',\n",
    " 'D Sähkö-, kaasu- ja lämpöhuolto, jäähdytysliiketoiminta, 2017 (TP) osuudesta Asukkaat yhteensä, 2018 (HE)',\n",
    " 'E Vesihuolto, viemäri- ja jätevesihuolto ja muu ympäristön puhtaanapito, 2017 (TP) osuudesta Asukkaat yhteensä, 2018 (HE)',\n",
    " 'Eläkeläiset, 2017 (PT) osuudesta Asukkaat yhteensä, 2018 (HE)',\n",
    " 'F Rakentaminen, 2017 (TP) osuudesta Asukkaat yhteensä, 2018 (HE)',\n",
    " 'G Tukku- ja vähittäiskauppa; moottoriajoneuvojen ja moottoripyörien korjaus, 2017 (TP) osuudesta Asukkaat yhteensä, 2018 (HE)',\n",
    " 'H Kuljetus ja varastointi, 2017 (TP) osuudesta Asukkaat yhteensä, 2018 (HE)',\n",
    " 'I Majoitus- ja ravitsemistoiminta, 2017 (TP) osuudesta Asukkaat yhteensä, 2018 (HE)',\n",
    " 'J Informaatio ja viestintä, 2017 (TP) osuudesta Asukkaat yhteensä, 2018 (HE)',\n",
    " 'Jalostuksen työpaikat, 2017 (TP) osuudesta Asukkaat yhteensä, 2018 (HE)',\n",
    " 'K Rahoitus- ja vakuutustoiminta, 2017 (TP) osuudesta Asukkaat yhteensä, 2018 (HE)',\n",
    " 'Kerrostaloasunnot, 2018 (RA) osuudesta Asukkaat yhteensä, 2018 (HE)',\n",
    " 'L Kiinteistöalan toiminta, 2017 (TP) osuudesta Asukkaat yhteensä, 2018 (HE)',\n",
    " 'Opiskelijat, 2017 (PT) osuudesta Asukkaat yhteensä, 2018 (HE)',\n",
    " 'Palveluiden työpaikat, 2017 (TP) osuudesta Asukkaat yhteensä, 2018 (HE)',\n",
    " 'Q Terveys- ja sosiaalipalvelut, 2017 (TP) osuudesta Asukkaat yhteensä, 2018 (HE)',\n",
    " 'R Taiteet, viihde ja virkistys, 2017 (TP) osuudesta Asukkaat yhteensä, 2018 (HE)',\n",
    " 'S Muu palvelutoiminta, 2017 (TP) osuudesta Asukkaat yhteensä, 2018 (HE)',\n",
    " 'T Kotitalouksien toiminta työnantajina; kotitalouksien eriyttämätön toiminta tavaroiden ja palveluiden tuottamiseksi omaan käyttöön, 2017 (TP) osuudesta Asukkaat yhteensä, 2018 (HE)',\n",
    " 'Työttömät, 2017 (PT) osuudesta Asukkaat yhteensä, 2018 (HE)',\n",
    " 'Ylemmän korkeakoulututkinnon suorittaneet, 2018 (KO) osuudesta Asukkaat yhteensä, 2018 (HE)',\n",
    " 'Ylimpään tuloluokkaan kuuluvat taloudet, 2017 (TR) osuudesta Asukkaat yhteensä, 2018 (HE)',\n",
    " 'Ylioppilastutkinnon suorittaneet, 2018 (KO) osuudesta Asukkaat yhteensä, 2018 (HE)',\n",
    " '1.1 Tuloverot yhteensä Yhteensä Saajien lukumäärä osuudesta Asukkaat yhteensä, 2018 (HE)',\n",
    " '1.1 Tuloverot yhteensä Yhteensä Summa, euroa osuudesta Asukkaat yhteensä, 2018 (HE)',\n",
    " '11. Yrittäjätulot yhteensä Yhteensä Saajien lukumäärä osuudesta Asukkaat yhteensä, 2018 (HE)',\n",
    " '11. Yrittäjätulot yhteensä Yhteensä Summa, euroa osuudesta Asukkaat yhteensä, 2018 (HE)',\n",
    " '11.5.1.1 Asuntolainan korkomenot (TVL 58 § 2 mom.) Yhteensä Saajien lukumäärä osuudesta Asukkaat yhteensä, 2018 (HE)',\n",
    " '11.5.1.1 Asuntolainan korkomenot (TVL 58 § 2 mom.) Yhteensä Summa, euroa osuudesta Asukkaat yhteensä, 2018 (HE)',\n",
    " '14.12 Opintolainavähennys Yhteensä Saajien lukumäärä osuudesta Asukkaat yhteensä, 2018 (HE)',\n",
    " '14.12 Opintolainavähennys Yhteensä Summa, euroa osuudesta Asukkaat yhteensä, 2018 (HE)',\n",
    " '14.7 Kotitalousvähennys Yhteensä Saajien lukumäärä osuudesta Asukkaat yhteensä, 2018 (HE)',\n",
    " '14.7 Kotitalousvähennys Yhteensä Summa, euroa osuudesta Asukkaat yhteensä, 2018 (HE)',\n",
    " '2. Tulot yhteensä Yhteensä Saajien lukumäärä osuudesta Asukkaat yhteensä, 2018 (HE)',\n",
    " '2. Tulot yhteensä Yhteensä Summa, euroa osuudesta Asukkaat yhteensä, 2018 (HE)',\n",
    " '4. Ansiotuloista tehtävät luonnolliset vähennykset eli tulonhankkimiskulut yhteensä Yhteensä Saajien lukumäärä osuudesta Asukkaat yhteensä, 2018 (HE)',\n",
    " '4. Ansiotuloista tehtävät luonnolliset vähennykset eli tulonhankkimiskulut yhteensä Yhteensä Summa, euroa osuudesta Asukkaat yhteensä, 2018 (HE)',\n",
    " '4.1 Palkkatulot yhteensä Yhteensä Saajien lukumäärä osuudesta Asukkaat yhteensä, 2018 (HE)',\n",
    " '4.1 Palkkatulot yhteensä Yhteensä Summa, euroa osuudesta Asukkaat yhteensä, 2018 (HE)',\n",
    " '4.2 Työmatkakulujen perusteella palkkatulosta vähennettävä määrä (TVL 93 §) Yhteensä Saajien lukumäärä osuudesta Asukkaat yhteensä, 2018 (HE)',\n",
    " '4.2 Työmatkakulujen perusteella palkkatulosta vähennettävä määrä (TVL 93 §) Yhteensä Summa, euroa osuudesta Asukkaat yhteensä, 2018 (HE)',\n",
    " '4.2.10 Muut veronalaiset sosiaalietuudet Yhteensä Saajien lukumäärä osuudesta Asukkaat yhteensä, 2018 (HE)',\n",
    " '4.2.10 Muut veronalaiset sosiaalietuudet Yhteensä Summa, euroa osuudesta Asukkaat yhteensä, 2018 (HE)',\n",
    " '4.2.2 Työttömyysetuudet Yhteensä Saajien lukumäärä osuudesta Asukkaat yhteensä, 2018 (HE)',\n",
    " '4.2.2 Työttömyysetuudet Yhteensä Summa, euroa osuudesta Asukkaat yhteensä, 2018 (HE)',\n",
    " '4.2.8 Lapsen kotihoidon tuki Yhteensä Saajien lukumäärä osuudesta Asukkaat yhteensä, 2018 (HE)',\n",
    " '4.2.8 Lapsen kotihoidon tuki Yhteensä Summa, euroa osuudesta Asukkaat yhteensä, 2018 (HE)',\n",
    " '5. Pääomatulot yhteensä Yhteensä Saajien lukumäärä osuudesta Asukkaat yhteensä, 2018 (HE)',\n",
    " '5. Pääomatulot yhteensä Yhteensä Summa, euroa osuudesta Asukkaat yhteensä, 2018 (HE)',\n",
    " '5.1.3 Vuokratulo Yhteensä Saajien lukumäärä osuudesta Asukkaat yhteensä, 2018 (HE)',\n",
    " '5.1.3 Vuokratulo Yhteensä Summa, euroa osuudesta Asukkaat yhteensä, 2018 (HE)',\n",
    " '6. Osingot brutto Yhteensä Saajien lukumäärä osuudesta Asukkaat yhteensä, 2018 (HE)',\n",
    " '6. Osingot brutto Yhteensä Summa, euroa osuudesta Asukkaat yhteensä, 2018 (HE)',\n",
    " 'Vähenykset suhteessa tulot yhteensä',\n",
    " 'Pääomatulojen osuus',\n",
    " 'Asuntolainan korkomenot vs tulot yhteensä',\n",
    " 'Nuorten yksinasuvien taloudet, 2018 (TE) osuudesta Taloudet yhteensä, 2018 (TE)',\n",
    " 'Lapsettomat nuorten parien taloudet, 2018 (TE) osuudesta Taloudet yhteensä, 2018 (TE)',\n",
    " 'Lapsitaloudet, 2018 (TE) osuudesta Taloudet yhteensä, 2018 (TE)',\n",
    " 'Aikuisten taloudet, 2018 (TE) osuudesta Taloudet yhteensä, 2018 (TE)',\n",
    " 'Eläkeläisten taloudet, 2018 (TE) osuudesta Taloudet yhteensä, 2018 (TE)',\n",
    " 'Pientaloasunnot, 2018 (RA) osuudesta Taloudet yhteensä, 2018 (TE)',\n",
    " 'Kerrostaloasunnot, 2018 (RA) osuudesta Taloudet yhteensä, 2018 (TE)',\n",
    " 'Omistusasunnoissa asuvat taloudet, 2018 (TE) osuudesta Taloudet yhteensä, 2018 (TE)',\n",
    " 'Vuokra-asunnoissa asuvat taloudet, 2018 (TE) osuudesta Taloudet yhteensä, 2018 (TE)',\n",
    " 'Alimpaan tuloluokkaan kuuluvat taloudet, 2017 (TR) osuudesta Taloudet yhteensä, 2018 (TE)',\n",
    " 'Keskimmäiseen tuloluokkaan kuuluvat taloudet, 2017 (TR) osuudesta Taloudet yhteensä, 2018 (TE)',\n",
    " 'Ylimpään tuloluokkaan kuuluvat taloudet, 2017 (TR) osuudesta Taloudet yhteensä, 2018 (TE)',\n",
    " 'Ravintolat osuudesta Taloudet yhteensä, 2018 (TE)',\n",
    " 'Myymälät osuudesta Taloudet yhteensä, 2018 (TE)'\n",
    "]"
   ]
  },
  {
   "cell_type": "code",
   "execution_count": null,
   "metadata": {},
   "outputs": [],
   "source": [
    "col_selected = ['Miehet, 2018 (HE) osuudesta Asukkaat yhteensä, 2018 (HE)',\n",
    " 'Naiset, 2018 (HE) osuudesta Asukkaat yhteensä, 2018 (HE)',\n",
    " 'Perusasteen suorittaneet, 2018 (KO) osuudesta Asukkaat yhteensä, 2018 (HE)',\n",
    " 'A Maatalous, metsätalous ja kalatalous, 2017 (TP) osuudesta Asukkaat yhteensä, 2018 (HE)',\n",
    " 'Alemman korkeakoulututkinnon suorittaneet, 2018 (KO) osuudesta Asukkaat yhteensä, 2018 (HE)',\n",
    " 'Alkutuotannon työpaikat, 2017 (TP) osuudesta Asukkaat yhteensä, 2018 (HE)',\n",
    " 'Ammatillisen tutkinnon suorittaneet, 2018 (KO) osuudesta Asukkaat yhteensä, 2018 (HE)',\n",
    " 'B Kaivostoiminta ja louhinta, 2017 (TP) osuudesta Asukkaat yhteensä, 2018 (HE)',\n",
    " 'C Teollisuus, 2017 (TP) osuudesta Asukkaat yhteensä, 2018 (HE)',\n",
    " 'D Sähkö-, kaasu- ja lämpöhuolto, jäähdytysliiketoiminta, 2017 (TP) osuudesta Asukkaat yhteensä, 2018 (HE)',\n",
    " 'E Vesihuolto, viemäri- ja jätevesihuolto ja muu ympäristön puhtaanapito, 2017 (TP) osuudesta Asukkaat yhteensä, 2018 (HE)',\n",
    " 'Eläkeläiset, 2017 (PT) osuudesta Asukkaat yhteensä, 2018 (HE)',\n",
    " 'F Rakentaminen, 2017 (TP) osuudesta Asukkaat yhteensä, 2018 (HE)',\n",
    " 'G Tukku- ja vähittäiskauppa; moottoriajoneuvojen ja moottoripyörien korjaus, 2017 (TP) osuudesta Asukkaat yhteensä, 2018 (HE)',\n",
    " 'H Kuljetus ja varastointi, 2017 (TP) osuudesta Asukkaat yhteensä, 2018 (HE)',\n",
    " 'I Majoitus- ja ravitsemistoiminta, 2017 (TP) osuudesta Asukkaat yhteensä, 2018 (HE)',\n",
    " 'J Informaatio ja viestintä, 2017 (TP) osuudesta Asukkaat yhteensä, 2018 (HE)',\n",
    " 'Jalostuksen työpaikat, 2017 (TP) osuudesta Asukkaat yhteensä, 2018 (HE)',\n",
    " 'K Rahoitus- ja vakuutustoiminta, 2017 (TP) osuudesta Asukkaat yhteensä, 2018 (HE)',\n",
    " 'Kerrostaloasunnot, 2018 (RA) osuudesta Asukkaat yhteensä, 2018 (HE)',\n",
    " 'L Kiinteistöalan toiminta, 2017 (TP) osuudesta Asukkaat yhteensä, 2018 (HE)',\n",
    " 'Opiskelijat, 2017 (PT) osuudesta Asukkaat yhteensä, 2018 (HE)',\n",
    " 'Palveluiden työpaikat, 2017 (TP) osuudesta Asukkaat yhteensä, 2018 (HE)',\n",
    " 'Q Terveys- ja sosiaalipalvelut, 2017 (TP) osuudesta Asukkaat yhteensä, 2018 (HE)',\n",
    " 'R Taiteet, viihde ja virkistys, 2017 (TP) osuudesta Asukkaat yhteensä, 2018 (HE)',\n",
    " 'S Muu palvelutoiminta, 2017 (TP) osuudesta Asukkaat yhteensä, 2018 (HE)',\n",
    " 'T Kotitalouksien toiminta työnantajina; kotitalouksien eriyttämätön toiminta tavaroiden ja palveluiden tuottamiseksi omaan käyttöön, 2017 (TP) osuudesta Asukkaat yhteensä, 2018 (HE)',\n",
    " 'Työttömät, 2017 (PT) osuudesta Asukkaat yhteensä, 2018 (HE)',\n",
    " 'Ylemmän korkeakoulututkinnon suorittaneet, 2018 (KO) osuudesta Asukkaat yhteensä, 2018 (HE)',\n",
    " 'Ylimpään tuloluokkaan kuuluvat taloudet, 2017 (TR) osuudesta Asukkaat yhteensä, 2018 (HE)',\n",
    " 'Ylioppilastutkinnon suorittaneet, 2018 (KO) osuudesta Asukkaat yhteensä, 2018 (HE)',\n",
    " 'Nuorten yksinasuvien taloudet, 2018 (TE) osuudesta Taloudet yhteensä, 2018 (TE)',\n",
    " 'Lapsettomat nuorten parien taloudet, 2018 (TE) osuudesta Taloudet yhteensä, 2018 (TE)',\n",
    " 'Lapsitaloudet, 2018 (TE) osuudesta Taloudet yhteensä, 2018 (TE)',\n",
    " 'Aikuisten taloudet, 2018 (TE) osuudesta Taloudet yhteensä, 2018 (TE)',\n",
    " 'Eläkeläisten taloudet, 2018 (TE) osuudesta Taloudet yhteensä, 2018 (TE)',\n",
    " 'Pientaloasunnot, 2018 (RA) osuudesta Taloudet yhteensä, 2018 (TE)',\n",
    " 'Kerrostaloasunnot, 2018 (RA) osuudesta Taloudet yhteensä, 2018 (TE)',\n",
    " 'Omistusasunnoissa asuvat taloudet, 2018 (TE) osuudesta Taloudet yhteensä, 2018 (TE)',\n",
    " 'Vuokra-asunnoissa asuvat taloudet, 2018 (TE) osuudesta Taloudet yhteensä, 2018 (TE)',\n",
    " 'Alimpaan tuloluokkaan kuuluvat taloudet, 2017 (TR) osuudesta Taloudet yhteensä, 2018 (TE)',\n",
    " 'Keskimmäiseen tuloluokkaan kuuluvat taloudet, 2017 (TR) osuudesta Taloudet yhteensä, 2018 (TE)',\n",
    " 'Ylimpään tuloluokkaan kuuluvat taloudet, 2017 (TR) osuudesta Taloudet yhteensä, 2018 (TE)',\n",
    " 'Ravintolat osuudesta Taloudet yhteensä, 2018 (TE)',\n",
    " 'Myymälät osuudesta Taloudet yhteensä, 2018 (TE)',\n",
    " 'Postinumeroalueen pinta-ala osuus area_code',\n",
    " 'Asuntojen keskipinta-ala, 2018 (RA) osuus total', \n",
    " 'Keskitulot osuus total', 'Keskiverot osuus total', \n",
    " 'Vähenykset suhteessa tulot yhteensä osuus total', \n",
    " 'Pääomatulojen osuus osuus total', \n",
    " 'Verojen osuus osuus total', \n",
    " 'Asuntolainan korkomenot vs tulot yhteensä osuus total', \n",
    " '1.1 Tuloverot yhteensä Yhteensä Summa, euroa osuudesta Asukkaat yhteensä, 2018 (HE) osuus total',\n",
    " '1.1.3 Kirkollisvero Yhteensä Summa, euroa osuudesta Asukkaat yhteensä, 2018 (HE) osuus total',\n",
    " '11. Yrittäjätulot yhteensä Yhteensä Summa, euroa osuudesta Asukkaat yhteensä, 2018 (HE) osuus total',\n",
    " '11.5.1.1 Asuntolainan korkomenot (TVL 58 § 2 mom.) Yhteensä Summa, euroa osuudesta Asukkaat yhteensä, 2018 (HE) osuus total',\n",
    " '14.12 Opintolainavähennys Yhteensä Summa, euroa osuudesta Asukkaat yhteensä, 2018 (HE) osuus total',\n",
    " '14.7 Kotitalousvähennys Yhteensä Summa, euroa osuudesta Asukkaat yhteensä, 2018 (HE) osuus total',\n",
    " '2. Tulot yhteensä Yhteensä Summa, euroa osuudesta Asukkaat yhteensä, 2018 (HE) osuus total',\n",
    " '4. Ansiotuloista tehtävät luonnolliset vähennykset eli tulonhankkimiskulut yhteensä Yhteensä Summa, euroa osuudesta Asukkaat yhteensä, 2018 (HE) osuus total',\n",
    " '4.1 Palkkatulot yhteensä Yhteensä Summa, euroa osuudesta Asukkaat yhteensä, 2018 (HE) osuus total',\n",
    " '4.1.C Autoetu Yhteensä Summa, euroa osuudesta Asukkaat yhteensä, 2018 (HE) osuus total',\n",
    " '4.2 Työmatkakulujen perusteella palkkatulosta vähennettävä määrä (TVL 93 §) Yhteensä Summa, euroa osuudesta Asukkaat yhteensä, 2018 (HE) osuus total',\n",
    " '4.2.10 Muut veronalaiset sosiaalietuudet Yhteensä Summa, euroa osuudesta Asukkaat yhteensä, 2018 (HE) osuus total',\n",
    " '4.2.2 Työttömyysetuudet Yhteensä Summa, euroa osuudesta Asukkaat yhteensä, 2018 (HE) osuus total',\n",
    " '4.2.6 Tapaturma- ym. muut päivärahat Yhteensä Summa, euroa osuudesta Asukkaat yhteensä, 2018 (HE) osuus total',\n",
    " '4.2.7 Päivä- ja äitiyspäivärahat Yhteensä Summa, euroa osuudesta Asukkaat yhteensä, 2018 (HE) osuus total',\n",
    " '4.2.8 Lapsen kotihoidon tuki Yhteensä Summa, euroa osuudesta Asukkaat yhteensä, 2018 (HE) osuus total',\n",
    " '4.2.9 Kuntoutusraha ja -avustus Yhteensä Summa, euroa osuudesta Asukkaat yhteensä, 2018 (HE) osuus total',\n",
    " '5. Pääomatulot yhteensä Yhteensä Summa, euroa osuudesta Asukkaat yhteensä, 2018 (HE) osuus total',\n",
    " '5.1.3 Vuokratulo Yhteensä Summa, euroa osuudesta Asukkaat yhteensä, 2018 (HE) osuus total',\n",
    " '6. Osingot brutto Yhteensä Summa, euroa osuudesta Asukkaat yhteensä, 2018 (HE) osuus total']"
   ]
  },
  {
   "cell_type": "code",
   "execution_count": null,
   "metadata": {},
   "outputs": [],
   "source": [
    "col_selected = ['Miehet, 2018 (HE) osuudesta Asukkaat yhteensä, 2018 (HE)',\n",
    " 'Naiset, 2018 (HE) osuudesta Asukkaat yhteensä, 2018 (HE)',\n",
    " 'Perusasteen suorittaneet, 2018 (KO) osuudesta Asukkaat yhteensä, 2018 (HE)',\n",
    " 'A Maatalous, metsätalous ja kalatalous, 2017 (TP) osuudesta Asukkaat yhteensä, 2018 (HE)',\n",
    " 'Alemman korkeakoulututkinnon suorittaneet, 2018 (KO) osuudesta Asukkaat yhteensä, 2018 (HE)',\n",
    " 'Alkutuotannon työpaikat, 2017 (TP) osuudesta Asukkaat yhteensä, 2018 (HE)',\n",
    " 'Ammatillisen tutkinnon suorittaneet, 2018 (KO) osuudesta Asukkaat yhteensä, 2018 (HE)',\n",
    " 'B Kaivostoiminta ja louhinta, 2017 (TP) osuudesta Asukkaat yhteensä, 2018 (HE)',\n",
    " 'C Teollisuus, 2017 (TP) osuudesta Asukkaat yhteensä, 2018 (HE)',\n",
    " 'D Sähkö-, kaasu- ja lämpöhuolto, jäähdytysliiketoiminta, 2017 (TP) osuudesta Asukkaat yhteensä, 2018 (HE)',\n",
    " 'E Vesihuolto, viemäri- ja jätevesihuolto ja muu ympäristön puhtaanapito, 2017 (TP) osuudesta Asukkaat yhteensä, 2018 (HE)',\n",
    " 'Eläkeläiset, 2017 (PT) osuudesta Asukkaat yhteensä, 2018 (HE)',\n",
    " 'F Rakentaminen, 2017 (TP) osuudesta Asukkaat yhteensä, 2018 (HE)',\n",
    " 'G Tukku- ja vähittäiskauppa; moottoriajoneuvojen ja moottoripyörien korjaus, 2017 (TP) osuudesta Asukkaat yhteensä, 2018 (HE)',\n",
    " 'H Kuljetus ja varastointi, 2017 (TP) osuudesta Asukkaat yhteensä, 2018 (HE)',\n",
    " 'I Majoitus- ja ravitsemistoiminta, 2017 (TP) osuudesta Asukkaat yhteensä, 2018 (HE)',\n",
    " 'J Informaatio ja viestintä, 2017 (TP) osuudesta Asukkaat yhteensä, 2018 (HE)',\n",
    " 'Jalostuksen työpaikat, 2017 (TP) osuudesta Asukkaat yhteensä, 2018 (HE)',\n",
    " 'K Rahoitus- ja vakuutustoiminta, 2017 (TP) osuudesta Asukkaat yhteensä, 2018 (HE)',\n",
    " 'Kerrostaloasunnot, 2018 (RA) osuudesta Asukkaat yhteensä, 2018 (HE)',\n",
    " 'L Kiinteistöalan toiminta, 2017 (TP) osuudesta Asukkaat yhteensä, 2018 (HE)',\n",
    " 'Opiskelijat, 2017 (PT) osuudesta Asukkaat yhteensä, 2018 (HE)',\n",
    " 'Palveluiden työpaikat, 2017 (TP) osuudesta Asukkaat yhteensä, 2018 (HE)',\n",
    " 'Q Terveys- ja sosiaalipalvelut, 2017 (TP) osuudesta Asukkaat yhteensä, 2018 (HE)',\n",
    " 'R Taiteet, viihde ja virkistys, 2017 (TP) osuudesta Asukkaat yhteensä, 2018 (HE)',\n",
    " 'S Muu palvelutoiminta, 2017 (TP) osuudesta Asukkaat yhteensä, 2018 (HE)',\n",
    " 'T Kotitalouksien toiminta työnantajina; kotitalouksien eriyttämätön toiminta tavaroiden ja palveluiden tuottamiseksi omaan käyttöön, 2017 (TP) osuudesta Asukkaat yhteensä, 2018 (HE)',\n",
    " 'Työttömät, 2017 (PT) osuudesta Asukkaat yhteensä, 2018 (HE)',\n",
    " 'Ylemmän korkeakoulututkinnon suorittaneet, 2018 (KO) osuudesta Asukkaat yhteensä, 2018 (HE)',\n",
    " 'Ylimpään tuloluokkaan kuuluvat taloudet, 2017 (TR) osuudesta Asukkaat yhteensä, 2018 (HE)',\n",
    " 'Ylioppilastutkinnon suorittaneet, 2018 (KO) osuudesta Asukkaat yhteensä, 2018 (HE)',\n",
    " 'Nuorten yksinasuvien taloudet, 2018 (TE) osuudesta Taloudet yhteensä, 2018 (TE)',\n",
    " 'Lapsettomat nuorten parien taloudet, 2018 (TE) osuudesta Taloudet yhteensä, 2018 (TE)',\n",
    " 'Lapsitaloudet, 2018 (TE) osuudesta Taloudet yhteensä, 2018 (TE)',\n",
    " 'Aikuisten taloudet, 2018 (TE) osuudesta Taloudet yhteensä, 2018 (TE)',\n",
    " 'Eläkeläisten taloudet, 2018 (TE) osuudesta Taloudet yhteensä, 2018 (TE)',\n",
    " 'Pientaloasunnot, 2018 (RA) osuudesta Taloudet yhteensä, 2018 (TE)',\n",
    " 'Kerrostaloasunnot, 2018 (RA) osuudesta Taloudet yhteensä, 2018 (TE)',\n",
    " 'Omistusasunnoissa asuvat taloudet, 2018 (TE) osuudesta Taloudet yhteensä, 2018 (TE)',\n",
    " 'Vuokra-asunnoissa asuvat taloudet, 2018 (TE) osuudesta Taloudet yhteensä, 2018 (TE)',\n",
    " 'Alimpaan tuloluokkaan kuuluvat taloudet, 2017 (TR) osuudesta Taloudet yhteensä, 2018 (TE)',\n",
    " 'Keskimmäiseen tuloluokkaan kuuluvat taloudet, 2017 (TR) osuudesta Taloudet yhteensä, 2018 (TE)',\n",
    " 'Ylimpään tuloluokkaan kuuluvat taloudet, 2017 (TR) osuudesta Taloudet yhteensä, 2018 (TE)',\n",
    " 'Ravintolat osuudesta Taloudet yhteensä, 2018 (TE)',\n",
    " 'Myymälät osuudesta Taloudet yhteensä, 2018 (TE)',\n",
    " 'Postinumeroalueen pinta-ala osuus area_code',\n",
    " 'Asuntojen keskipinta-ala, 2018 (RA) osuus total', \n",
    " 'Keskitulot osuus total', 'Keskiverot osuus total', \n",
    " 'Vähenykset suhteessa tulot yhteensä osuus total', \n",
    " 'Pääomatulojen osuus osuus total', \n",
    " 'Verojen osuus osuus total', \n",
    " 'Asuntolainan korkomenot vs tulot yhteensä osuus total', \n",
    " '1.1 Tuloverot yhteensä Yhteensä Summa, euroa osuudesta Asukkaat yhteensä, 2018 (HE) osuus total',\n",
    " '1.1.3 Kirkollisvero Yhteensä Summa, euroa osuudesta Asukkaat yhteensä, 2018 (HE) osuus total',\n",
    " '11. Yrittäjätulot yhteensä Yhteensä Summa, euroa osuudesta Asukkaat yhteensä, 2018 (HE) osuus total',\n",
    " '11.5.1.1 Asuntolainan korkomenot (TVL 58 § 2 mom.) Yhteensä Summa, euroa osuudesta Asukkaat yhteensä, 2018 (HE) osuus total',\n",
    " '14.12 Opintolainavähennys Yhteensä Summa, euroa osuudesta Asukkaat yhteensä, 2018 (HE) osuus total',\n",
    " '14.7 Kotitalousvähennys Yhteensä Summa, euroa osuudesta Asukkaat yhteensä, 2018 (HE) osuus total',\n",
    " '2. Tulot yhteensä Yhteensä Summa, euroa osuudesta Asukkaat yhteensä, 2018 (HE) osuus total',\n",
    " '4. Ansiotuloista tehtävät luonnolliset vähennykset eli tulonhankkimiskulut yhteensä Yhteensä Summa, euroa osuudesta Asukkaat yhteensä, 2018 (HE) osuus total',\n",
    " '4.1 Palkkatulot yhteensä Yhteensä Summa, euroa osuudesta Asukkaat yhteensä, 2018 (HE) osuus total',\n",
    " '4.1.C Autoetu Yhteensä Summa, euroa osuudesta Asukkaat yhteensä, 2018 (HE) osuus total',\n",
    " '4.2 Työmatkakulujen perusteella palkkatulosta vähennettävä määrä (TVL 93 §) Yhteensä Summa, euroa osuudesta Asukkaat yhteensä, 2018 (HE) osuus total',\n",
    " '4.2.10 Muut veronalaiset sosiaalietuudet Yhteensä Summa, euroa osuudesta Asukkaat yhteensä, 2018 (HE) osuus total',\n",
    " '4.2.2 Työttömyysetuudet Yhteensä Summa, euroa osuudesta Asukkaat yhteensä, 2018 (HE) osuus total',\n",
    " '4.2.6 Tapaturma- ym. muut päivärahat Yhteensä Summa, euroa osuudesta Asukkaat yhteensä, 2018 (HE) osuus total',\n",
    " '4.2.7 Päivä- ja äitiyspäivärahat Yhteensä Summa, euroa osuudesta Asukkaat yhteensä, 2018 (HE) osuus total',\n",
    " '4.2.8 Lapsen kotihoidon tuki Yhteensä Summa, euroa osuudesta Asukkaat yhteensä, 2018 (HE) osuus total',\n",
    " '4.2.9 Kuntoutusraha ja -avustus Yhteensä Summa, euroa osuudesta Asukkaat yhteensä, 2018 (HE) osuus total',\n",
    " '5. Pääomatulot yhteensä Yhteensä Summa, euroa osuudesta Asukkaat yhteensä, 2018 (HE) osuus total',]"
   ]
  },
  {
   "cell_type": "code",
   "execution_count": null,
   "metadata": {},
   "outputs": [],
   "source": [
    "%matplotlib inline\n",
    "%config InlineBackend.figure_format = 'retina'\n",
    "import pandas as pd\n",
    "pd.options.display.max_colwidth = 100\n",
    "\n",
    "from draw_and_create_clusters import draw_pca, drawTSNE, draw_clusters, draw_silhouette_score, draw_gaussian_mix, create_kmeans_clusters \n",
    "\n",
    "selected = stat[stat['area_code']=='FI1B1'].copy()\n",
    "selected_vaalidata = vaalidata[vaalidata['area_code']=='FI1B1']\n",
    "post_included = post[post['area_code']=='FI1B1'].copy()\n",
    "\n",
    "\n",
    "#selected = stat[(stat['muncipality_code']==91)].copy()\n",
    "#selected_vaalidata = vaalidata[(vaalidata['Kuntanumero']==91)].copy()\n",
    "#post_included = post[post['muncipality_code']==91]['postcode'].count()\n",
    "\n",
    "\n",
    "\n",
    "categorical_features=[]\n",
    "categorical_features=['language_code']\n",
    "numeric_features= list(set(col_selected) - set(categorical_features))\n",
    "\n",
    "for n_clusters in range(10, 2, -1):\n",
    "    kmeans, X, X_scale, data=create_kmeans_clusters(selected, numeric_features, categorical_features, n_clusters, -1,scaled=False)\n",
    "    \n",
    "kmeans, X, X_scale, data=create_kmeans_clusters(selected, numeric_features, categorical_features, 7, 0.2, scaled=False)"
   ]
  },
  {
   "cell_type": "code",
   "execution_count": null,
   "metadata": {},
   "outputs": [],
   "source": [
    "drawTSNE(X, data, 1)\n",
    "draw_pca(X, data, 1)"
   ]
  },
  {
   "cell_type": "code",
   "execution_count": null,
   "metadata": {},
   "outputs": [],
   "source": [
    "draw_clusters(X_scale, 15)"
   ]
  },
  {
   "cell_type": "code",
   "execution_count": null,
   "metadata": {
    "scrolled": false
   },
   "outputs": [],
   "source": [
    "draw_silhouette_score(X_scale, kmeans)"
   ]
  },
  {
   "cell_type": "code",
   "execution_count": null,
   "metadata": {
    "scrolled": false
   },
   "outputs": [],
   "source": [
    "data.plot('Suurin_puolue numero', color = data['puoluevari'].to_list(), figsize=(10, 10))"
   ]
  },
  {
   "cell_type": "code",
   "execution_count": null,
   "metadata": {},
   "outputs": [],
   "source": [
    "data.plot(column='cluster', figsize=(10, 10))"
   ]
  },
  {
   "cell_type": "code",
   "execution_count": null,
   "metadata": {},
   "outputs": [],
   "source": [
    "import xgboost as xgb\n",
    "from sklearn.feature_selection import  mutual_info_classif\n",
    "from create_prediction import create_prediction\n",
    "values = data.sort_values(by=['Suurin_puolue numero'])['Suurin_puolue numero'].unique()\n",
    "j = 0\n",
    "for i in values:\n",
    "    j = j + 1\n",
    "    data.loc[data['Suurin_puolue numero']==i, 'Suurin_puolue numero uusi numero'] = j\n",
    "\n",
    "data.loc[:,'Suurin_puolue numero uusi numero'] = data['Suurin_puolue numero uusi numero'].astype(int) \n",
    "target = 'Suurin_puolue numero uusi numero'\n",
    "\n",
    "\n",
    "\n",
    "#Check\n",
    "#k_selected need to have correct values, if they are too large, evrything needs to be started again\n",
    "k_selected = 'all'\n",
    "\n",
    "test_size = 0.2\n",
    "\n",
    "#Scalers attributes\n",
    "kbest_score_func = mutual_info_classif\n",
    "#set values to model configuration attributes\n",
    "\n",
    "num_class = len(data['Suurin_puolue numero uusi numero']) + 1 #how many classes we are working with\n",
    "\n",
    "metric = 'merror'\n",
    "Skfold=False\n",
    "Verbose = False\n",
    "testing=True\n",
    "\n",
    "params = {\n",
    "    # Parameters that we are going to tune.\n",
    "    'objective':'multi:softmax',\n",
    "    'num_class' : num_class,\n",
    "    'booster' : 'gbtree',\n",
    "    'eval_metric' : metric\n",
    "} \n",
    "\n",
    "\n",
    "data, features_df, importance_df, model, params, dtest, X_train, y_train, X_test, y_test = create_prediction(data, data, target, kbest_score_func, metric, params, numeric_features, categorical_features, scaled=False)\n",
    "from reset_party_number import reset_party_number\n",
    "data, class_names = reset_party_number(data)\n"
   ]
  },
  {
   "cell_type": "code",
   "execution_count": null,
   "metadata": {},
   "outputs": [],
   "source": [
    "from draw_all import draw_true_vs_predicted\n",
    "draw_true_vs_predicted(dtest, y_test, model, target)"
   ]
  },
  {
   "cell_type": "code",
   "execution_count": null,
   "metadata": {},
   "outputs": [],
   "source": [
    "from draw_all import draw_features\n",
    "show_rows = 10\n",
    "title = 'Features kbest'\n",
    "draw_features(features_df[features_df['Selected']==True].head(show_rows)['Score'], features_df[features_df['Selected']==True].head(show_rows)['Column'], title)"
   ]
  },
  {
   "cell_type": "code",
   "execution_count": null,
   "metadata": {},
   "outputs": [],
   "source": [
    "from draw_all import draw_features\n",
    "show_rows = 10\n",
    "title = 'Importance / gain'\n",
    "draw_features(importance_df[importance_df['Importance type']=='gain'].head(show_rows)['Score'], importance_df[importance_df['Importance type']=='gain'].head(show_rows)['Feature'], title)"
   ]
  },
  {
   "cell_type": "code",
   "execution_count": null,
   "metadata": {},
   "outputs": [],
   "source": [
    "from shap_tree import shap_tree\n",
    "explainer, shap_values, shap_interaction_values, shap_expected_value  = shap_tree(X_train, y_train, params)"
   ]
  },
  {
   "cell_type": "code",
   "execution_count": null,
   "metadata": {},
   "outputs": [],
   "source": [
    "import shap\n",
    "shap.summary_plot(shap_values, X_train,  max_display=25, class_names=class_names)"
   ]
  },
  {
   "cell_type": "code",
   "execution_count": null,
   "metadata": {},
   "outputs": [],
   "source": [
    "idx =1\n",
    "print(class_names[idx])\n",
    "shap.summary_plot(shap_values[idx], X_train,  max_display=15, plot_type = 'layered_violin')\n"
   ]
  },
  {
   "cell_type": "code",
   "execution_count": null,
   "metadata": {},
   "outputs": [],
   "source": [
    "idx = 6\n",
    "shap.multioutput_decision_plot(shap_expected_value, shap_values, idx, feature_names=X_train.columns.to_list(),legend_labels=class_names, legend_location='lower right', title = data.loc[idx]['Postinumero'],plot_color ='Paired_r')"
   ]
  },
  {
   "cell_type": "code",
   "execution_count": null,
   "metadata": {},
   "outputs": [],
   "source": [
    "from shap_vals import shap_vals\n",
    "idx = 5 \n",
    "k2 =shap_vals(X_train, shap_values[idx])\n",
    "k2 =k2.tail(15)\n",
    "colorlist = k2['Sign']\n",
    "ax = k2.plot.barh(x='Variable',y='SHAP_abs',color = colorlist, title= class_names[idx], figsize=(5,6),legend=False)\n",
    "ax.set_xlabel(\"SHAP Value (Red = Positive Impact)\")\n"
   ]
  },
  {
   "cell_type": "code",
   "execution_count": null,
   "metadata": {},
   "outputs": [],
   "source": [
    "from sklearn.metrics import accuracy_score, f1_score, precision_score, recall_score, confusion_matrix\n",
    "from statsmodels.stats.proportion import proportion_confint\n",
    "\n",
    "\n",
    "y_pred = model.predict(dtest)\n",
    "lower, upper = proportion_confint(accuracy_score(y_test, y_pred) * len(y_test), len(y_test), 0.05)\n",
    "print(\"Accuracy: {}\".format(accuracy_score(y_test, y_pred)))\n",
    "print(\"F1 Score: \", f1_score(y_test, y_pred, average=\"macro\"))\n",
    "print(\"Precision Score: \", precision_score(y_test, y_pred, average=\"macro\", zero_division=0))\n",
    "print(\"Recall Score: \", recall_score(y_test, y_pred, average=\"macro\"))\n",
    "print('Confidence level lower=%.3f, upper=%.3f' % (lower, upper))"
   ]
  },
  {
   "cell_type": "code",
   "execution_count": null,
   "metadata": {
    "scrolled": true
   },
   "outputs": [],
   "source": [
    "import geopandas as gp\n",
    "data = gp.GeoDataFrame(data, geometry='geometry')\n",
    "data.plot('Ennustettu_Suurin_puolue numero', color = data['Ennustettu_puoluevari'].to_list(), figsize=(10, 10))"
   ]
  },
  {
   "cell_type": "code",
   "execution_count": null,
   "metadata": {},
   "outputs": [],
   "source": [
    "data.plot('Suurin_puolue numero', color = data['puoluevari'].to_list(), figsize=(10, 10))"
   ]
  },
  {
   "cell_type": "code",
   "execution_count": null,
   "metadata": {},
   "outputs": [],
   "source": [
    "import xgboost as xgb\n",
    "from sklearn.feature_selection import mutual_info_regression\n",
    "from create_prediction import create_prediction\n",
    "\n",
    "puolue = 'VIHR'\n",
    "target = 'Äänet yhteensä lkm ' + puolue\n",
    "\n",
    "ennustettu_puolue = 'Ennustettu_Äänet yhteensä lkm ' + puolue\n",
    "\n",
    "#set values to feature engineering attributes\n",
    "\n",
    "#Check\n",
    "#k_selected need to have correct values, if they are too large, evrything needs to be started again\n",
    "k_selected = 'all'\n",
    "\n",
    "test_size = 0.2\n",
    "\n",
    "#Scalers attributes\n",
    "kbest_score_func = mutual_info_regression \n",
    "\n",
    "\n",
    "metric = 'rmse'\n",
    "Skfold=False\n",
    "Verbose = False\n",
    "testing=True\n",
    "\n",
    "params = {\n",
    "    #Initial xgboost parameters to be automatically tuned\n",
    "    'objective':'reg:squarederror',\n",
    "    'booster' : 'gbtree',\n",
    "    'eval_metric' : metric\n",
    "    } \n",
    "\n",
    "\n",
    "\n",
    "data, features_df, importance_df, model, params, dtest, X_train, y_train, X_test, y_test = create_prediction(data, data, target, kbest_score_func, metric, params, numeric_features, categorical_features,scaled=False)\n"
   ]
  },
  {
   "cell_type": "code",
   "execution_count": null,
   "metadata": {
    "scrolled": true
   },
   "outputs": [],
   "source": [
    "from draw_all import draw_true_vs_predicted\n",
    "draw_true_vs_predicted(dtest, y_test, model, target)"
   ]
  },
  {
   "cell_type": "code",
   "execution_count": null,
   "metadata": {},
   "outputs": [],
   "source": [
    "laskennallinen = data[target].sum()\n",
    "ennuste = data[ennustettu_puolue].sum()\n",
    "aitotulos = selected_vaalidata[selected_vaalidata['Puolueen nimilyhenne suomeksi']==puolue].sum()['Äänet yhteensä lkm']\n",
    "print('Laskennallisen virhe aitoon tulokseen', (aitotulos - laskennallinen)/aitotulos)\n",
    "print('Ennusteen virhe aitoon tulokseen', (aitotulos - ennuste)/aitotulos)\n",
    "print('Ennusteen virhe laskennalliseen tulokseen', (laskennallinen - ennuste)/laskennallinen)\n",
    "aanet=selected.columns[selected.columns.str.startswith('Äänet yhteensä lkm')]\n",
    "print('Ennusteen mukainen ääniosuus', ennuste/selected_vaalidata[selected_vaalidata['Puolueen nimilyhenne suomeksi']=='Äänet']['Äänet yhteensä lkm'].sum())\n",
    "aaniosuus = selected_vaalidata[selected_vaalidata['Puolueen nimilyhenne suomeksi']==puolue].sum()['Äänet yhteensä lkm']/selected_vaalidata[selected_vaalidata['Puolueen nimilyhenne suomeksi']=='Äänet']['Äänet yhteensä lkm'].sum()\n",
    "print('Vaalien mukainen ääniosuus', aaniosuus)\n",
    "print('Ennusteessa mukana olevat postinumerot', data['Postinumero'].count()/post_included['postcode'].count())"
   ]
  },
  {
   "cell_type": "code",
   "execution_count": null,
   "metadata": {},
   "outputs": [],
   "source": [
    "from draw_all import draw_features\n",
    "show_rows = 10\n",
    "title = 'Features kbest'\n",
    "draw_features(features_df[features_df['Selected']==True].head(show_rows)['Score'], features_df[features_df['Selected']==True].head(show_rows)['Column'], title)"
   ]
  },
  {
   "cell_type": "code",
   "execution_count": null,
   "metadata": {
    "scrolled": false
   },
   "outputs": [],
   "source": [
    "from draw_all import draw_features\n",
    "title = 'Importance / gain'\n",
    "draw_features(importance_df[importance_df['Importance type']=='gain'].head(show_rows)['Score'], importance_df[importance_df['Importance type']=='gain'].head(show_rows)['Feature'], title)"
   ]
  },
  {
   "cell_type": "code",
   "execution_count": null,
   "metadata": {},
   "outputs": [],
   "source": [
    "from shap_tree import shap_tree\n",
    "explainer, shap_values, shap_interaction_values, shap_expected_value  = shap_tree(X_train, y_train, params)"
   ]
  },
  {
   "cell_type": "code",
   "execution_count": null,
   "metadata": {},
   "outputs": [],
   "source": [
    "import shap\n",
    "shap.summary_plot(shap_values, X_train,  max_display=15)"
   ]
  },
  {
   "cell_type": "code",
   "execution_count": null,
   "metadata": {},
   "outputs": [],
   "source": [
    "shap.decision_plot(shap_expected_value, shap_values, feature_names=X_train.columns.to_list())"
   ]
  },
  {
   "cell_type": "code",
   "execution_count": null,
   "metadata": {},
   "outputs": [],
   "source": [
    "from shap_vals import shap_vals\n",
    "k2=shap_vals(X_train, shap_values)\n",
    "k2=k2.tail(25)\n",
    "colorlist = k2['Sign']\n",
    "ax = k2.plot.barh(x='Variable',y='SHAP_abs',color = colorlist, figsize=(5,6),legend=False)\n",
    "ax.set_xlabel(\"SHAP Value (Red = Positive Impact)\")\n"
   ]
  },
  {
   "cell_type": "code",
   "execution_count": null,
   "metadata": {},
   "outputs": [],
   "source": [
    "data.plot(column=target, figsize=(10, 10))"
   ]
  },
  {
   "cell_type": "code",
   "execution_count": null,
   "metadata": {},
   "outputs": [],
   "source": [
    "data.plot(column=ennustettu_puolue, figsize=(10, 10))"
   ]
  },
  {
   "cell_type": "code",
   "execution_count": null,
   "metadata": {
    "scrolled": true
   },
   "outputs": [],
   "source": [
    "from xgboost import plot_tree\n",
    "plot_tree(model, num_trees=1)\n"
   ]
  },
  {
   "cell_type": "code",
   "execution_count": null,
   "metadata": {},
   "outputs": [],
   "source": [
    "from sklearn.model_selection import StratifiedKFold\n",
    "from sklearn.feature_selection import RFECV\n",
    "import matplotlib.pyplot as plt\n",
    "import xgboost as xgb\n",
    "from sklearn.feature_selection import RFECV\n",
    "\n",
    "\n",
    "if params['objective'] == 'reg:squarederror':\n",
    "        thismodel = xgb.XGBRegressor(**params)\n",
    "if params['objective'] == 'multi:softmax':\n",
    "        thismodel = xgb.XGBClassifier(**params)\n",
    "        \n",
    "mymodel = thismodel.fit(X_train, y_train)\n",
    "rfecv = RFECV(estimator=mymodel, step=1, cv=StratifiedKFold(5))\n",
    "rfecv.fit(X_train, y_train)\n"
   ]
  },
  {
   "cell_type": "code",
   "execution_count": null,
   "metadata": {},
   "outputs": [],
   "source": [
    "rfecv.ranking_"
   ]
  },
  {
   "cell_type": "code",
   "execution_count": null,
   "metadata": {},
   "outputs": [],
   "source": [
    "rfecv.support_"
   ]
  },
  {
   "cell_type": "code",
   "execution_count": null,
   "metadata": {},
   "outputs": [],
   "source": [
    "X_train.columns[rfecv.support_]"
   ]
  },
  {
   "cell_type": "code",
   "execution_count": null,
   "metadata": {},
   "outputs": [],
   "source": []
  }
 ],
 "metadata": {
  "kernelspec": {
   "display_name": "Python 3",
   "language": "python",
   "name": "python3"
  },
  "language_info": {
   "codemirror_mode": {
    "name": "ipython",
    "version": 3
   },
   "file_extension": ".py",
   "mimetype": "text/x-python",
   "name": "python",
   "nbconvert_exporter": "python",
   "pygments_lexer": "ipython3",
   "version": "3.6.8"
  }
 },
 "nbformat": 4,
 "nbformat_minor": 4
}
